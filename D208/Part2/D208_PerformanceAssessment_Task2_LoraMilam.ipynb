{
 "cells": [
  {
   "cell_type": "code",
   "execution_count": 1,
   "id": "9b27fd3d",
   "metadata": {},
   "outputs": [],
   "source": [
    "# Standard imports\n",
    "import numpy as np\n",
    "import pandas as pd\n",
    "from pandas import Series, DataFrame\n",
    "\n",
    "# Visualization libraries\n",
    "import seaborn as sns\n",
    "import matplotlib.pyplot as plt\n",
    "%matplotlib inline\n",
    "\n",
    "# Statistics packages\n",
    "import pylab\n",
    "from pylab import rcParams\n",
    "import statsmodels.api as sm\n",
    "import statistics\n",
    "from scipy import stats\n",
    "\n",
    "# Scikit-learn\n",
    "import sklearn\n",
    "from sklearn import preprocessing\n",
    "from sklearn.linear_model import LinearRegression\n",
    "from sklearn.model_selection import train_test_split\n",
    "from sklearn import metrics\n",
    "from sklearn.metrics import classification_report\n",
    "\n",
    "# Import chisquare from SciPy.stats\n",
    "from scipy.stats import chisquare\n",
    "from scipy.stats import chi2_contingency\n",
    "\n",
    "# Ignore warnings\n",
    "import warnings\n",
    "warnings.filterwarnings(\"ignore\")"
   ]
  },
  {
   "cell_type": "code",
   "execution_count": 2,
   "id": "3c002b15",
   "metadata": {},
   "outputs": [],
   "source": [
    "# Load dataset into Pandas dataframe\n",
    "medical_df = pd.read_csv('medical_clean.csv')"
   ]
  },
  {
   "cell_type": "code",
   "execution_count": 3,
   "id": "de6e2e51",
   "metadata": {},
   "outputs": [
    {
     "data": {
      "text/html": [
       "<div>\n",
       "<style scoped>\n",
       "    .dataframe tbody tr th:only-of-type {\n",
       "        vertical-align: middle;\n",
       "    }\n",
       "\n",
       "    .dataframe tbody tr th {\n",
       "        vertical-align: top;\n",
       "    }\n",
       "\n",
       "    .dataframe thead th {\n",
       "        text-align: right;\n",
       "    }\n",
       "</style>\n",
       "<table border=\"1\" class=\"dataframe\">\n",
       "  <thead>\n",
       "    <tr style=\"text-align: right;\">\n",
       "      <th></th>\n",
       "      <th>CaseOrder</th>\n",
       "      <th>Customer_id</th>\n",
       "      <th>Interaction</th>\n",
       "      <th>UID</th>\n",
       "      <th>City</th>\n",
       "      <th>State</th>\n",
       "      <th>County</th>\n",
       "      <th>Zip</th>\n",
       "      <th>Lat</th>\n",
       "      <th>Lng</th>\n",
       "      <th>...</th>\n",
       "      <th>TotalCharge</th>\n",
       "      <th>Additional_charges</th>\n",
       "      <th>Survey_TimelyAdmin</th>\n",
       "      <th>Survey_TimelyTreatment</th>\n",
       "      <th>Survey_TimelyVisits</th>\n",
       "      <th>Survey_Reliability</th>\n",
       "      <th>Survey_Options</th>\n",
       "      <th>Survey_HoursTreatment</th>\n",
       "      <th>Survey_CourteousStaff</th>\n",
       "      <th>Survey_ActiveListening</th>\n",
       "    </tr>\n",
       "  </thead>\n",
       "  <tbody>\n",
       "    <tr>\n",
       "      <th>0</th>\n",
       "      <td>1</td>\n",
       "      <td>C412403</td>\n",
       "      <td>8cd49b13-f45a-4b47-a2bd-173ffa932c2f</td>\n",
       "      <td>3a83ddb66e2ae73798bdf1d705dc0932</td>\n",
       "      <td>Eva</td>\n",
       "      <td>AL</td>\n",
       "      <td>Morgan</td>\n",
       "      <td>35621</td>\n",
       "      <td>34.34960</td>\n",
       "      <td>-86.72508</td>\n",
       "      <td>...</td>\n",
       "      <td>3726.702860</td>\n",
       "      <td>17939.403420</td>\n",
       "      <td>3</td>\n",
       "      <td>3</td>\n",
       "      <td>2</td>\n",
       "      <td>2</td>\n",
       "      <td>4</td>\n",
       "      <td>3</td>\n",
       "      <td>3</td>\n",
       "      <td>4</td>\n",
       "    </tr>\n",
       "    <tr>\n",
       "      <th>1</th>\n",
       "      <td>2</td>\n",
       "      <td>Z919181</td>\n",
       "      <td>d2450b70-0337-4406-bdbb-bc1037f1734c</td>\n",
       "      <td>176354c5eef714957d486009feabf195</td>\n",
       "      <td>Marianna</td>\n",
       "      <td>FL</td>\n",
       "      <td>Jackson</td>\n",
       "      <td>32446</td>\n",
       "      <td>30.84513</td>\n",
       "      <td>-85.22907</td>\n",
       "      <td>...</td>\n",
       "      <td>4193.190458</td>\n",
       "      <td>17612.998120</td>\n",
       "      <td>3</td>\n",
       "      <td>4</td>\n",
       "      <td>3</td>\n",
       "      <td>4</td>\n",
       "      <td>4</td>\n",
       "      <td>4</td>\n",
       "      <td>3</td>\n",
       "      <td>3</td>\n",
       "    </tr>\n",
       "    <tr>\n",
       "      <th>2</th>\n",
       "      <td>3</td>\n",
       "      <td>F995323</td>\n",
       "      <td>a2057123-abf5-4a2c-abad-8ffe33512562</td>\n",
       "      <td>e19a0fa00aeda885b8a436757e889bc9</td>\n",
       "      <td>Sioux Falls</td>\n",
       "      <td>SD</td>\n",
       "      <td>Minnehaha</td>\n",
       "      <td>57110</td>\n",
       "      <td>43.54321</td>\n",
       "      <td>-96.63772</td>\n",
       "      <td>...</td>\n",
       "      <td>2434.234222</td>\n",
       "      <td>17505.192460</td>\n",
       "      <td>2</td>\n",
       "      <td>4</td>\n",
       "      <td>4</td>\n",
       "      <td>4</td>\n",
       "      <td>3</td>\n",
       "      <td>4</td>\n",
       "      <td>3</td>\n",
       "      <td>3</td>\n",
       "    </tr>\n",
       "    <tr>\n",
       "      <th>3</th>\n",
       "      <td>4</td>\n",
       "      <td>A879973</td>\n",
       "      <td>1dec528d-eb34-4079-adce-0d7a40e82205</td>\n",
       "      <td>cd17d7b6d152cb6f23957346d11c3f07</td>\n",
       "      <td>New Richland</td>\n",
       "      <td>MN</td>\n",
       "      <td>Waseca</td>\n",
       "      <td>56072</td>\n",
       "      <td>43.89744</td>\n",
       "      <td>-93.51479</td>\n",
       "      <td>...</td>\n",
       "      <td>2127.830423</td>\n",
       "      <td>12993.437350</td>\n",
       "      <td>3</td>\n",
       "      <td>5</td>\n",
       "      <td>5</td>\n",
       "      <td>3</td>\n",
       "      <td>4</td>\n",
       "      <td>5</td>\n",
       "      <td>5</td>\n",
       "      <td>5</td>\n",
       "    </tr>\n",
       "    <tr>\n",
       "      <th>4</th>\n",
       "      <td>5</td>\n",
       "      <td>C544523</td>\n",
       "      <td>5885f56b-d6da-43a3-8760-83583af94266</td>\n",
       "      <td>d2f0425877b10ed6bb381f3e2579424a</td>\n",
       "      <td>West Point</td>\n",
       "      <td>VA</td>\n",
       "      <td>King William</td>\n",
       "      <td>23181</td>\n",
       "      <td>37.59894</td>\n",
       "      <td>-76.88958</td>\n",
       "      <td>...</td>\n",
       "      <td>2113.073274</td>\n",
       "      <td>3716.525786</td>\n",
       "      <td>2</td>\n",
       "      <td>1</td>\n",
       "      <td>3</td>\n",
       "      <td>3</td>\n",
       "      <td>5</td>\n",
       "      <td>3</td>\n",
       "      <td>4</td>\n",
       "      <td>3</td>\n",
       "    </tr>\n",
       "    <tr>\n",
       "      <th>...</th>\n",
       "      <td>...</td>\n",
       "      <td>...</td>\n",
       "      <td>...</td>\n",
       "      <td>...</td>\n",
       "      <td>...</td>\n",
       "      <td>...</td>\n",
       "      <td>...</td>\n",
       "      <td>...</td>\n",
       "      <td>...</td>\n",
       "      <td>...</td>\n",
       "      <td>...</td>\n",
       "      <td>...</td>\n",
       "      <td>...</td>\n",
       "      <td>...</td>\n",
       "      <td>...</td>\n",
       "      <td>...</td>\n",
       "      <td>...</td>\n",
       "      <td>...</td>\n",
       "      <td>...</td>\n",
       "      <td>...</td>\n",
       "      <td>...</td>\n",
       "    </tr>\n",
       "    <tr>\n",
       "      <th>9995</th>\n",
       "      <td>9996</td>\n",
       "      <td>B863060</td>\n",
       "      <td>a25b594d-0328-486f-a9b9-0567eb0f9723</td>\n",
       "      <td>39184dc28cc038871912ccc4500049e5</td>\n",
       "      <td>Norlina</td>\n",
       "      <td>NC</td>\n",
       "      <td>Warren</td>\n",
       "      <td>27563</td>\n",
       "      <td>36.42886</td>\n",
       "      <td>-78.23716</td>\n",
       "      <td>...</td>\n",
       "      <td>6850.942000</td>\n",
       "      <td>8927.642000</td>\n",
       "      <td>3</td>\n",
       "      <td>2</td>\n",
       "      <td>2</td>\n",
       "      <td>3</td>\n",
       "      <td>4</td>\n",
       "      <td>3</td>\n",
       "      <td>4</td>\n",
       "      <td>2</td>\n",
       "    </tr>\n",
       "    <tr>\n",
       "      <th>9996</th>\n",
       "      <td>9997</td>\n",
       "      <td>P712040</td>\n",
       "      <td>70711574-f7b1-4a17-b15f-48c54564b70f</td>\n",
       "      <td>3cd124ccd43147404292e883bf9ec55c</td>\n",
       "      <td>Milmay</td>\n",
       "      <td>NJ</td>\n",
       "      <td>Atlantic</td>\n",
       "      <td>8340</td>\n",
       "      <td>39.43609</td>\n",
       "      <td>-74.87302</td>\n",
       "      <td>...</td>\n",
       "      <td>7741.690000</td>\n",
       "      <td>28507.150000</td>\n",
       "      <td>3</td>\n",
       "      <td>3</td>\n",
       "      <td>4</td>\n",
       "      <td>2</td>\n",
       "      <td>5</td>\n",
       "      <td>3</td>\n",
       "      <td>4</td>\n",
       "      <td>4</td>\n",
       "    </tr>\n",
       "    <tr>\n",
       "      <th>9997</th>\n",
       "      <td>9998</td>\n",
       "      <td>R778890</td>\n",
       "      <td>1d79569d-8e0f-4180-a207-d67ee4527d26</td>\n",
       "      <td>41b770aeee97a5b9e7f69c906a8119d7</td>\n",
       "      <td>Southside</td>\n",
       "      <td>TN</td>\n",
       "      <td>Montgomery</td>\n",
       "      <td>37171</td>\n",
       "      <td>36.36655</td>\n",
       "      <td>-87.29988</td>\n",
       "      <td>...</td>\n",
       "      <td>8276.481000</td>\n",
       "      <td>15281.210000</td>\n",
       "      <td>3</td>\n",
       "      <td>3</td>\n",
       "      <td>3</td>\n",
       "      <td>4</td>\n",
       "      <td>4</td>\n",
       "      <td>2</td>\n",
       "      <td>3</td>\n",
       "      <td>2</td>\n",
       "    </tr>\n",
       "    <tr>\n",
       "      <th>9998</th>\n",
       "      <td>9999</td>\n",
       "      <td>E344109</td>\n",
       "      <td>f5a68e69-2a60-409b-a92f-ac0847b27db0</td>\n",
       "      <td>2bb491ef5b1beb1fed758cc6885c167a</td>\n",
       "      <td>Quinn</td>\n",
       "      <td>SD</td>\n",
       "      <td>Pennington</td>\n",
       "      <td>57775</td>\n",
       "      <td>44.10354</td>\n",
       "      <td>-102.01590</td>\n",
       "      <td>...</td>\n",
       "      <td>7644.483000</td>\n",
       "      <td>7781.678000</td>\n",
       "      <td>5</td>\n",
       "      <td>5</td>\n",
       "      <td>3</td>\n",
       "      <td>4</td>\n",
       "      <td>4</td>\n",
       "      <td>3</td>\n",
       "      <td>4</td>\n",
       "      <td>3</td>\n",
       "    </tr>\n",
       "    <tr>\n",
       "      <th>9999</th>\n",
       "      <td>10000</td>\n",
       "      <td>I569847</td>\n",
       "      <td>bc482c02-f8c9-4423-99de-3db5e62a18d5</td>\n",
       "      <td>95663a202338000abdf7e09311c2a8a1</td>\n",
       "      <td>Coraopolis</td>\n",
       "      <td>PA</td>\n",
       "      <td>Allegheny</td>\n",
       "      <td>15108</td>\n",
       "      <td>40.49998</td>\n",
       "      <td>-80.19959</td>\n",
       "      <td>...</td>\n",
       "      <td>7887.553000</td>\n",
       "      <td>11643.190000</td>\n",
       "      <td>4</td>\n",
       "      <td>3</td>\n",
       "      <td>3</td>\n",
       "      <td>2</td>\n",
       "      <td>3</td>\n",
       "      <td>6</td>\n",
       "      <td>4</td>\n",
       "      <td>3</td>\n",
       "    </tr>\n",
       "  </tbody>\n",
       "</table>\n",
       "<p>10000 rows × 50 columns</p>\n",
       "</div>"
      ],
      "text/plain": [
       "      CaseOrder Customer_id                           Interaction  \\\n",
       "0             1     C412403  8cd49b13-f45a-4b47-a2bd-173ffa932c2f   \n",
       "1             2     Z919181  d2450b70-0337-4406-bdbb-bc1037f1734c   \n",
       "2             3     F995323  a2057123-abf5-4a2c-abad-8ffe33512562   \n",
       "3             4     A879973  1dec528d-eb34-4079-adce-0d7a40e82205   \n",
       "4             5     C544523  5885f56b-d6da-43a3-8760-83583af94266   \n",
       "...         ...         ...                                   ...   \n",
       "9995       9996     B863060  a25b594d-0328-486f-a9b9-0567eb0f9723   \n",
       "9996       9997     P712040  70711574-f7b1-4a17-b15f-48c54564b70f   \n",
       "9997       9998     R778890  1d79569d-8e0f-4180-a207-d67ee4527d26   \n",
       "9998       9999     E344109  f5a68e69-2a60-409b-a92f-ac0847b27db0   \n",
       "9999      10000     I569847  bc482c02-f8c9-4423-99de-3db5e62a18d5   \n",
       "\n",
       "                                   UID          City State        County  \\\n",
       "0     3a83ddb66e2ae73798bdf1d705dc0932           Eva    AL        Morgan   \n",
       "1     176354c5eef714957d486009feabf195      Marianna    FL       Jackson   \n",
       "2     e19a0fa00aeda885b8a436757e889bc9   Sioux Falls    SD     Minnehaha   \n",
       "3     cd17d7b6d152cb6f23957346d11c3f07  New Richland    MN        Waseca   \n",
       "4     d2f0425877b10ed6bb381f3e2579424a    West Point    VA  King William   \n",
       "...                                ...           ...   ...           ...   \n",
       "9995  39184dc28cc038871912ccc4500049e5       Norlina    NC        Warren   \n",
       "9996  3cd124ccd43147404292e883bf9ec55c        Milmay    NJ      Atlantic   \n",
       "9997  41b770aeee97a5b9e7f69c906a8119d7     Southside    TN    Montgomery   \n",
       "9998  2bb491ef5b1beb1fed758cc6885c167a         Quinn    SD    Pennington   \n",
       "9999  95663a202338000abdf7e09311c2a8a1    Coraopolis    PA     Allegheny   \n",
       "\n",
       "        Zip       Lat        Lng  ...  TotalCharge Additional_charges  \\\n",
       "0     35621  34.34960  -86.72508  ...  3726.702860       17939.403420   \n",
       "1     32446  30.84513  -85.22907  ...  4193.190458       17612.998120   \n",
       "2     57110  43.54321  -96.63772  ...  2434.234222       17505.192460   \n",
       "3     56072  43.89744  -93.51479  ...  2127.830423       12993.437350   \n",
       "4     23181  37.59894  -76.88958  ...  2113.073274        3716.525786   \n",
       "...     ...       ...        ...  ...          ...                ...   \n",
       "9995  27563  36.42886  -78.23716  ...  6850.942000        8927.642000   \n",
       "9996   8340  39.43609  -74.87302  ...  7741.690000       28507.150000   \n",
       "9997  37171  36.36655  -87.29988  ...  8276.481000       15281.210000   \n",
       "9998  57775  44.10354 -102.01590  ...  7644.483000        7781.678000   \n",
       "9999  15108  40.49998  -80.19959  ...  7887.553000       11643.190000   \n",
       "\n",
       "     Survey_TimelyAdmin Survey_TimelyTreatment  Survey_TimelyVisits  \\\n",
       "0                     3                      3                    2   \n",
       "1                     3                      4                    3   \n",
       "2                     2                      4                    4   \n",
       "3                     3                      5                    5   \n",
       "4                     2                      1                    3   \n",
       "...                 ...                    ...                  ...   \n",
       "9995                  3                      2                    2   \n",
       "9996                  3                      3                    4   \n",
       "9997                  3                      3                    3   \n",
       "9998                  5                      5                    3   \n",
       "9999                  4                      3                    3   \n",
       "\n",
       "      Survey_Reliability  Survey_Options Survey_HoursTreatment  \\\n",
       "0                      2               4                     3   \n",
       "1                      4               4                     4   \n",
       "2                      4               3                     4   \n",
       "3                      3               4                     5   \n",
       "4                      3               5                     3   \n",
       "...                  ...             ...                   ...   \n",
       "9995                   3               4                     3   \n",
       "9996                   2               5                     3   \n",
       "9997                   4               4                     2   \n",
       "9998                   4               4                     3   \n",
       "9999                   2               3                     6   \n",
       "\n",
       "     Survey_CourteousStaff Survey_ActiveListening  \n",
       "0                        3                      4  \n",
       "1                        3                      3  \n",
       "2                        3                      3  \n",
       "3                        5                      5  \n",
       "4                        4                      3  \n",
       "...                    ...                    ...  \n",
       "9995                     4                      2  \n",
       "9996                     4                      4  \n",
       "9997                     3                      2  \n",
       "9998                     4                      3  \n",
       "9999                     4                      3  \n",
       "\n",
       "[10000 rows x 50 columns]"
      ]
     },
     "execution_count": 3,
     "metadata": {},
     "output_type": "execute_result"
    }
   ],
   "source": [
    "# Rename survey columns to more identifiable names\n",
    "medical_df.rename(columns = \n",
    "    {'Item1':'Survey_TimelyAdmin',\n",
    "     'Item2':'Survey_TimelyTreatment',\n",
    "     'Item3':'Survey_TimelyVisits',\n",
    "     'Item4':'Survey_Reliability',\n",
    "     'Item5':'Survey_Options',\n",
    "     'Item6':'Survey_HoursTreatment',\n",
    "     'Item7':'Survey_CourteousStaff',\n",
    "     'Item8':'Survey_ActiveListening'}, inplace=True)\n",
    "\n",
    "# Display updated Medical dataframe\n",
    "medical_df"
   ]
  },
  {
   "cell_type": "code",
   "execution_count": 4,
   "id": "785d15b2",
   "metadata": {},
   "outputs": [
    {
     "name": "stdout",
     "output_type": "stream",
     "text": [
      "Index(['CaseOrder', 'Customer_id', 'Interaction', 'UID', 'City', 'State',\n",
      "       'County', 'Zip', 'Lat', 'Lng', 'Population', 'Area', 'TimeZone', 'Job',\n",
      "       'Children', 'Age', 'Income', 'Marital', 'Gender', 'ReAdmis',\n",
      "       'VitD_levels', 'Doc_visits', 'Full_meals_eaten', 'vitD_supp',\n",
      "       'Soft_drink', 'Initial_admin', 'HighBlood', 'Stroke',\n",
      "       'Complication_risk', 'Overweight', 'Arthritis', 'Diabetes',\n",
      "       'Hyperlipidemia', 'BackPain', 'Anxiety', 'Allergic_rhinitis',\n",
      "       'Reflux_esophagitis', 'Asthma', 'Services', 'Initial_days',\n",
      "       'TotalCharge', 'Additional_charges', 'Survey_TimelyAdmin',\n",
      "       'Survey_TimelyTreatment', 'Survey_TimelyVisits', 'Survey_Reliability',\n",
      "       'Survey_Options', 'Survey_HoursTreatment', 'Survey_CourteousStaff',\n",
      "       'Survey_ActiveListening'],\n",
      "      dtype='object')\n"
     ]
    }
   ],
   "source": [
    "# List dataframe columns\n",
    "df = medical_df.columns\n",
    "print(df)"
   ]
  },
  {
   "cell_type": "code",
   "execution_count": 5,
   "id": "1c7d786b",
   "metadata": {},
   "outputs": [
    {
     "data": {
      "text/plain": [
       "(10000, 50)"
      ]
     },
     "execution_count": 5,
     "metadata": {},
     "output_type": "execute_result"
    }
   ],
   "source": [
    "# Number of records and columns of dataframe\n",
    "medical_df.shape"
   ]
  },
  {
   "cell_type": "code",
   "execution_count": 6,
   "id": "ae11517e",
   "metadata": {},
   "outputs": [
    {
     "data": {
      "text/html": [
       "<div>\n",
       "<style scoped>\n",
       "    .dataframe tbody tr th:only-of-type {\n",
       "        vertical-align: middle;\n",
       "    }\n",
       "\n",
       "    .dataframe tbody tr th {\n",
       "        vertical-align: top;\n",
       "    }\n",
       "\n",
       "    .dataframe thead th {\n",
       "        text-align: right;\n",
       "    }\n",
       "</style>\n",
       "<table border=\"1\" class=\"dataframe\">\n",
       "  <thead>\n",
       "    <tr style=\"text-align: right;\">\n",
       "      <th></th>\n",
       "      <th>CaseOrder</th>\n",
       "      <th>Zip</th>\n",
       "      <th>Lat</th>\n",
       "      <th>Lng</th>\n",
       "      <th>Population</th>\n",
       "      <th>Children</th>\n",
       "      <th>Age</th>\n",
       "      <th>Income</th>\n",
       "      <th>VitD_levels</th>\n",
       "      <th>Doc_visits</th>\n",
       "      <th>...</th>\n",
       "      <th>TotalCharge</th>\n",
       "      <th>Additional_charges</th>\n",
       "      <th>Survey_TimelyAdmin</th>\n",
       "      <th>Survey_TimelyTreatment</th>\n",
       "      <th>Survey_TimelyVisits</th>\n",
       "      <th>Survey_Reliability</th>\n",
       "      <th>Survey_Options</th>\n",
       "      <th>Survey_HoursTreatment</th>\n",
       "      <th>Survey_CourteousStaff</th>\n",
       "      <th>Survey_ActiveListening</th>\n",
       "    </tr>\n",
       "  </thead>\n",
       "  <tbody>\n",
       "    <tr>\n",
       "      <th>count</th>\n",
       "      <td>10000.00000</td>\n",
       "      <td>10000.000000</td>\n",
       "      <td>10000.000000</td>\n",
       "      <td>10000.000000</td>\n",
       "      <td>10000.000000</td>\n",
       "      <td>10000.000000</td>\n",
       "      <td>10000.000000</td>\n",
       "      <td>10000.000000</td>\n",
       "      <td>10000.000000</td>\n",
       "      <td>10000.000000</td>\n",
       "      <td>...</td>\n",
       "      <td>10000.000000</td>\n",
       "      <td>10000.000000</td>\n",
       "      <td>10000.000000</td>\n",
       "      <td>10000.000000</td>\n",
       "      <td>10000.000000</td>\n",
       "      <td>10000.000000</td>\n",
       "      <td>10000.000000</td>\n",
       "      <td>10000.000000</td>\n",
       "      <td>10000.000000</td>\n",
       "      <td>10000.000000</td>\n",
       "    </tr>\n",
       "    <tr>\n",
       "      <th>mean</th>\n",
       "      <td>5000.50000</td>\n",
       "      <td>50159.323900</td>\n",
       "      <td>38.751099</td>\n",
       "      <td>-91.243080</td>\n",
       "      <td>9965.253800</td>\n",
       "      <td>2.097200</td>\n",
       "      <td>53.511700</td>\n",
       "      <td>40490.495160</td>\n",
       "      <td>17.964262</td>\n",
       "      <td>5.012200</td>\n",
       "      <td>...</td>\n",
       "      <td>5312.172769</td>\n",
       "      <td>12934.528587</td>\n",
       "      <td>3.518800</td>\n",
       "      <td>3.506700</td>\n",
       "      <td>3.511100</td>\n",
       "      <td>3.515100</td>\n",
       "      <td>3.496900</td>\n",
       "      <td>3.522500</td>\n",
       "      <td>3.494000</td>\n",
       "      <td>3.509700</td>\n",
       "    </tr>\n",
       "    <tr>\n",
       "      <th>std</th>\n",
       "      <td>2886.89568</td>\n",
       "      <td>27469.588208</td>\n",
       "      <td>5.403085</td>\n",
       "      <td>15.205998</td>\n",
       "      <td>14824.758614</td>\n",
       "      <td>2.163659</td>\n",
       "      <td>20.638538</td>\n",
       "      <td>28521.153293</td>\n",
       "      <td>2.017231</td>\n",
       "      <td>1.045734</td>\n",
       "      <td>...</td>\n",
       "      <td>2180.393838</td>\n",
       "      <td>6542.601544</td>\n",
       "      <td>1.031966</td>\n",
       "      <td>1.034825</td>\n",
       "      <td>1.032755</td>\n",
       "      <td>1.036282</td>\n",
       "      <td>1.030192</td>\n",
       "      <td>1.032376</td>\n",
       "      <td>1.021405</td>\n",
       "      <td>1.042312</td>\n",
       "    </tr>\n",
       "    <tr>\n",
       "      <th>min</th>\n",
       "      <td>1.00000</td>\n",
       "      <td>610.000000</td>\n",
       "      <td>17.967190</td>\n",
       "      <td>-174.209700</td>\n",
       "      <td>0.000000</td>\n",
       "      <td>0.000000</td>\n",
       "      <td>18.000000</td>\n",
       "      <td>154.080000</td>\n",
       "      <td>9.806483</td>\n",
       "      <td>1.000000</td>\n",
       "      <td>...</td>\n",
       "      <td>1938.312067</td>\n",
       "      <td>3125.703000</td>\n",
       "      <td>1.000000</td>\n",
       "      <td>1.000000</td>\n",
       "      <td>1.000000</td>\n",
       "      <td>1.000000</td>\n",
       "      <td>1.000000</td>\n",
       "      <td>1.000000</td>\n",
       "      <td>1.000000</td>\n",
       "      <td>1.000000</td>\n",
       "    </tr>\n",
       "    <tr>\n",
       "      <th>25%</th>\n",
       "      <td>2500.75000</td>\n",
       "      <td>27592.000000</td>\n",
       "      <td>35.255120</td>\n",
       "      <td>-97.352982</td>\n",
       "      <td>694.750000</td>\n",
       "      <td>0.000000</td>\n",
       "      <td>36.000000</td>\n",
       "      <td>19598.775000</td>\n",
       "      <td>16.626439</td>\n",
       "      <td>4.000000</td>\n",
       "      <td>...</td>\n",
       "      <td>3179.374015</td>\n",
       "      <td>7986.487755</td>\n",
       "      <td>3.000000</td>\n",
       "      <td>3.000000</td>\n",
       "      <td>3.000000</td>\n",
       "      <td>3.000000</td>\n",
       "      <td>3.000000</td>\n",
       "      <td>3.000000</td>\n",
       "      <td>3.000000</td>\n",
       "      <td>3.000000</td>\n",
       "    </tr>\n",
       "    <tr>\n",
       "      <th>50%</th>\n",
       "      <td>5000.50000</td>\n",
       "      <td>50207.000000</td>\n",
       "      <td>39.419355</td>\n",
       "      <td>-88.397230</td>\n",
       "      <td>2769.000000</td>\n",
       "      <td>1.000000</td>\n",
       "      <td>53.000000</td>\n",
       "      <td>33768.420000</td>\n",
       "      <td>17.951122</td>\n",
       "      <td>5.000000</td>\n",
       "      <td>...</td>\n",
       "      <td>5213.952000</td>\n",
       "      <td>11573.977735</td>\n",
       "      <td>4.000000</td>\n",
       "      <td>3.000000</td>\n",
       "      <td>4.000000</td>\n",
       "      <td>4.000000</td>\n",
       "      <td>3.000000</td>\n",
       "      <td>4.000000</td>\n",
       "      <td>3.000000</td>\n",
       "      <td>3.000000</td>\n",
       "    </tr>\n",
       "    <tr>\n",
       "      <th>75%</th>\n",
       "      <td>7500.25000</td>\n",
       "      <td>72411.750000</td>\n",
       "      <td>42.044175</td>\n",
       "      <td>-80.438050</td>\n",
       "      <td>13945.000000</td>\n",
       "      <td>3.000000</td>\n",
       "      <td>71.000000</td>\n",
       "      <td>54296.402500</td>\n",
       "      <td>19.347963</td>\n",
       "      <td>6.000000</td>\n",
       "      <td>...</td>\n",
       "      <td>7459.699750</td>\n",
       "      <td>15626.490000</td>\n",
       "      <td>4.000000</td>\n",
       "      <td>4.000000</td>\n",
       "      <td>4.000000</td>\n",
       "      <td>4.000000</td>\n",
       "      <td>4.000000</td>\n",
       "      <td>4.000000</td>\n",
       "      <td>4.000000</td>\n",
       "      <td>4.000000</td>\n",
       "    </tr>\n",
       "    <tr>\n",
       "      <th>max</th>\n",
       "      <td>10000.00000</td>\n",
       "      <td>99929.000000</td>\n",
       "      <td>70.560990</td>\n",
       "      <td>-65.290170</td>\n",
       "      <td>122814.000000</td>\n",
       "      <td>10.000000</td>\n",
       "      <td>89.000000</td>\n",
       "      <td>207249.100000</td>\n",
       "      <td>26.394449</td>\n",
       "      <td>9.000000</td>\n",
       "      <td>...</td>\n",
       "      <td>9180.728000</td>\n",
       "      <td>30566.070000</td>\n",
       "      <td>8.000000</td>\n",
       "      <td>7.000000</td>\n",
       "      <td>8.000000</td>\n",
       "      <td>7.000000</td>\n",
       "      <td>7.000000</td>\n",
       "      <td>7.000000</td>\n",
       "      <td>7.000000</td>\n",
       "      <td>7.000000</td>\n",
       "    </tr>\n",
       "  </tbody>\n",
       "</table>\n",
       "<p>8 rows × 23 columns</p>\n",
       "</div>"
      ],
      "text/plain": [
       "         CaseOrder           Zip           Lat           Lng     Population  \\\n",
       "count  10000.00000  10000.000000  10000.000000  10000.000000   10000.000000   \n",
       "mean    5000.50000  50159.323900     38.751099    -91.243080    9965.253800   \n",
       "std     2886.89568  27469.588208      5.403085     15.205998   14824.758614   \n",
       "min        1.00000    610.000000     17.967190   -174.209700       0.000000   \n",
       "25%     2500.75000  27592.000000     35.255120    -97.352982     694.750000   \n",
       "50%     5000.50000  50207.000000     39.419355    -88.397230    2769.000000   \n",
       "75%     7500.25000  72411.750000     42.044175    -80.438050   13945.000000   \n",
       "max    10000.00000  99929.000000     70.560990    -65.290170  122814.000000   \n",
       "\n",
       "           Children           Age         Income   VitD_levels    Doc_visits  \\\n",
       "count  10000.000000  10000.000000   10000.000000  10000.000000  10000.000000   \n",
       "mean       2.097200     53.511700   40490.495160     17.964262      5.012200   \n",
       "std        2.163659     20.638538   28521.153293      2.017231      1.045734   \n",
       "min        0.000000     18.000000     154.080000      9.806483      1.000000   \n",
       "25%        0.000000     36.000000   19598.775000     16.626439      4.000000   \n",
       "50%        1.000000     53.000000   33768.420000     17.951122      5.000000   \n",
       "75%        3.000000     71.000000   54296.402500     19.347963      6.000000   \n",
       "max       10.000000     89.000000  207249.100000     26.394449      9.000000   \n",
       "\n",
       "       ...   TotalCharge  Additional_charges  Survey_TimelyAdmin  \\\n",
       "count  ...  10000.000000        10000.000000        10000.000000   \n",
       "mean   ...   5312.172769        12934.528587            3.518800   \n",
       "std    ...   2180.393838         6542.601544            1.031966   \n",
       "min    ...   1938.312067         3125.703000            1.000000   \n",
       "25%    ...   3179.374015         7986.487755            3.000000   \n",
       "50%    ...   5213.952000        11573.977735            4.000000   \n",
       "75%    ...   7459.699750        15626.490000            4.000000   \n",
       "max    ...   9180.728000        30566.070000            8.000000   \n",
       "\n",
       "       Survey_TimelyTreatment  Survey_TimelyVisits  Survey_Reliability  \\\n",
       "count            10000.000000         10000.000000        10000.000000   \n",
       "mean                 3.506700             3.511100            3.515100   \n",
       "std                  1.034825             1.032755            1.036282   \n",
       "min                  1.000000             1.000000            1.000000   \n",
       "25%                  3.000000             3.000000            3.000000   \n",
       "50%                  3.000000             4.000000            4.000000   \n",
       "75%                  4.000000             4.000000            4.000000   \n",
       "max                  7.000000             8.000000            7.000000   \n",
       "\n",
       "       Survey_Options  Survey_HoursTreatment  Survey_CourteousStaff  \\\n",
       "count    10000.000000           10000.000000           10000.000000   \n",
       "mean         3.496900               3.522500               3.494000   \n",
       "std          1.030192               1.032376               1.021405   \n",
       "min          1.000000               1.000000               1.000000   \n",
       "25%          3.000000               3.000000               3.000000   \n",
       "50%          3.000000               4.000000               3.000000   \n",
       "75%          4.000000               4.000000               4.000000   \n",
       "max          7.000000               7.000000               7.000000   \n",
       "\n",
       "       Survey_ActiveListening  \n",
       "count            10000.000000  \n",
       "mean                 3.509700  \n",
       "std                  1.042312  \n",
       "min                  1.000000  \n",
       "25%                  3.000000  \n",
       "50%                  3.000000  \n",
       "75%                  4.000000  \n",
       "max                  7.000000  \n",
       "\n",
       "[8 rows x 23 columns]"
      ]
     },
     "execution_count": 6,
     "metadata": {},
     "output_type": "execute_result"
    }
   ],
   "source": [
    "# Describe Medical dataset stats\n",
    "medical_df.describe()"
   ]
  },
  {
   "cell_type": "code",
   "execution_count": 7,
   "id": "1f147e37",
   "metadata": {},
   "outputs": [
    {
     "data": {
      "text/plain": [
       "(10000, 35)"
      ]
     },
     "execution_count": 7,
     "metadata": {},
     "output_type": "execute_result"
    }
   ],
   "source": [
    "# Remove less relevant fields from stats description\n",
    "medical_df = medical_df.drop(columns=['CaseOrder', 'Customer_id', 'Interaction', 'UID', 'City', 'State', \n",
    "                                      'County', 'Zip', 'Lat', 'Lng', 'Population', 'Area', 'TimeZone', 'Job', \n",
    "                                      'Marital'])\n",
    "medical_df.describe()\n",
    "medical_df.shape"
   ]
  },
  {
   "cell_type": "code",
   "execution_count": 8,
   "id": "e6f3efaf",
   "metadata": {},
   "outputs": [
    {
     "name": "stdout",
     "output_type": "stream",
     "text": [
      "Children                  0\n",
      "Age                       0\n",
      "Income                    0\n",
      "Gender                    0\n",
      "ReAdmis                   0\n",
      "VitD_levels               0\n",
      "Doc_visits                0\n",
      "Full_meals_eaten          0\n",
      "vitD_supp                 0\n",
      "Soft_drink                0\n",
      "Initial_admin             0\n",
      "HighBlood                 0\n",
      "Stroke                    0\n",
      "Complication_risk         0\n",
      "Overweight                0\n",
      "Arthritis                 0\n",
      "Diabetes                  0\n",
      "Hyperlipidemia            0\n",
      "BackPain                  0\n",
      "Anxiety                   0\n",
      "Allergic_rhinitis         0\n",
      "Reflux_esophagitis        0\n",
      "Asthma                    0\n",
      "Services                  0\n",
      "Initial_days              0\n",
      "TotalCharge               0\n",
      "Additional_charges        0\n",
      "Survey_TimelyAdmin        0\n",
      "Survey_TimelyTreatment    0\n",
      "Survey_TimelyVisits       0\n",
      "Survey_Reliability        0\n",
      "Survey_Options            0\n",
      "Survey_HoursTreatment     0\n",
      "Survey_CourteousStaff     0\n",
      "Survey_ActiveListening    0\n",
      "dtype: int64\n"
     ]
    }
   ],
   "source": [
    "# Count of missing values by column\n",
    "data_nulls = medical_df.isnull().sum()\n",
    "print(data_nulls)"
   ]
  },
  {
   "cell_type": "code",
   "execution_count": 9,
   "id": "0d7674ff",
   "metadata": {},
   "outputs": [
    {
     "data": {
      "text/html": [
       "<div>\n",
       "<style scoped>\n",
       "    .dataframe tbody tr th:only-of-type {\n",
       "        vertical-align: middle;\n",
       "    }\n",
       "\n",
       "    .dataframe tbody tr th {\n",
       "        vertical-align: top;\n",
       "    }\n",
       "\n",
       "    .dataframe thead th {\n",
       "        text-align: right;\n",
       "    }\n",
       "</style>\n",
       "<table border=\"1\" class=\"dataframe\">\n",
       "  <thead>\n",
       "    <tr style=\"text-align: right;\">\n",
       "      <th></th>\n",
       "      <th>Children</th>\n",
       "      <th>Age</th>\n",
       "      <th>Income</th>\n",
       "      <th>VitD_levels</th>\n",
       "      <th>Doc_visits</th>\n",
       "      <th>Full_meals_eaten</th>\n",
       "      <th>vitD_supp</th>\n",
       "      <th>Initial_days</th>\n",
       "      <th>TotalCharge</th>\n",
       "      <th>Additional_charges</th>\n",
       "      <th>...</th>\n",
       "      <th>Elective Admission</th>\n",
       "      <th>Emergency Admission</th>\n",
       "      <th>Observation Admission</th>\n",
       "      <th>High</th>\n",
       "      <th>Low</th>\n",
       "      <th>Medium</th>\n",
       "      <th>Blood Work</th>\n",
       "      <th>CT Scan</th>\n",
       "      <th>Intravenous</th>\n",
       "      <th>MRI</th>\n",
       "    </tr>\n",
       "  </thead>\n",
       "  <tbody>\n",
       "    <tr>\n",
       "      <th>count</th>\n",
       "      <td>10000.000000</td>\n",
       "      <td>10000.000000</td>\n",
       "      <td>10000.000000</td>\n",
       "      <td>10000.000000</td>\n",
       "      <td>10000.000000</td>\n",
       "      <td>10000.000000</td>\n",
       "      <td>10000.000000</td>\n",
       "      <td>10000.000000</td>\n",
       "      <td>10000.000000</td>\n",
       "      <td>10000.000000</td>\n",
       "      <td>...</td>\n",
       "      <td>10000.000000</td>\n",
       "      <td>10000.000000</td>\n",
       "      <td>10000.000000</td>\n",
       "      <td>10000.000000</td>\n",
       "      <td>10000.000000</td>\n",
       "      <td>10000.000000</td>\n",
       "      <td>10000.000000</td>\n",
       "      <td>10000.000000</td>\n",
       "      <td>10000.000000</td>\n",
       "      <td>10000.000000</td>\n",
       "    </tr>\n",
       "    <tr>\n",
       "      <th>mean</th>\n",
       "      <td>2.097200</td>\n",
       "      <td>53.511700</td>\n",
       "      <td>40490.495160</td>\n",
       "      <td>17.964262</td>\n",
       "      <td>5.012200</td>\n",
       "      <td>1.001400</td>\n",
       "      <td>0.398900</td>\n",
       "      <td>34.455299</td>\n",
       "      <td>5312.172769</td>\n",
       "      <td>12934.528587</td>\n",
       "      <td>...</td>\n",
       "      <td>0.250400</td>\n",
       "      <td>0.506000</td>\n",
       "      <td>0.243600</td>\n",
       "      <td>0.335800</td>\n",
       "      <td>0.212500</td>\n",
       "      <td>0.451700</td>\n",
       "      <td>0.526500</td>\n",
       "      <td>0.122500</td>\n",
       "      <td>0.313000</td>\n",
       "      <td>0.038000</td>\n",
       "    </tr>\n",
       "    <tr>\n",
       "      <th>std</th>\n",
       "      <td>2.163659</td>\n",
       "      <td>20.638538</td>\n",
       "      <td>28521.153293</td>\n",
       "      <td>2.017231</td>\n",
       "      <td>1.045734</td>\n",
       "      <td>1.008117</td>\n",
       "      <td>0.628505</td>\n",
       "      <td>26.309341</td>\n",
       "      <td>2180.393838</td>\n",
       "      <td>6542.601544</td>\n",
       "      <td>...</td>\n",
       "      <td>0.433265</td>\n",
       "      <td>0.499989</td>\n",
       "      <td>0.429276</td>\n",
       "      <td>0.472293</td>\n",
       "      <td>0.409097</td>\n",
       "      <td>0.497687</td>\n",
       "      <td>0.499322</td>\n",
       "      <td>0.327879</td>\n",
       "      <td>0.463738</td>\n",
       "      <td>0.191206</td>\n",
       "    </tr>\n",
       "    <tr>\n",
       "      <th>min</th>\n",
       "      <td>0.000000</td>\n",
       "      <td>18.000000</td>\n",
       "      <td>154.080000</td>\n",
       "      <td>9.806483</td>\n",
       "      <td>1.000000</td>\n",
       "      <td>0.000000</td>\n",
       "      <td>0.000000</td>\n",
       "      <td>1.001981</td>\n",
       "      <td>1938.312067</td>\n",
       "      <td>3125.703000</td>\n",
       "      <td>...</td>\n",
       "      <td>0.000000</td>\n",
       "      <td>0.000000</td>\n",
       "      <td>0.000000</td>\n",
       "      <td>0.000000</td>\n",
       "      <td>0.000000</td>\n",
       "      <td>0.000000</td>\n",
       "      <td>0.000000</td>\n",
       "      <td>0.000000</td>\n",
       "      <td>0.000000</td>\n",
       "      <td>0.000000</td>\n",
       "    </tr>\n",
       "    <tr>\n",
       "      <th>25%</th>\n",
       "      <td>0.000000</td>\n",
       "      <td>36.000000</td>\n",
       "      <td>19598.775000</td>\n",
       "      <td>16.626439</td>\n",
       "      <td>4.000000</td>\n",
       "      <td>0.000000</td>\n",
       "      <td>0.000000</td>\n",
       "      <td>7.896215</td>\n",
       "      <td>3179.374015</td>\n",
       "      <td>7986.487755</td>\n",
       "      <td>...</td>\n",
       "      <td>0.000000</td>\n",
       "      <td>0.000000</td>\n",
       "      <td>0.000000</td>\n",
       "      <td>0.000000</td>\n",
       "      <td>0.000000</td>\n",
       "      <td>0.000000</td>\n",
       "      <td>0.000000</td>\n",
       "      <td>0.000000</td>\n",
       "      <td>0.000000</td>\n",
       "      <td>0.000000</td>\n",
       "    </tr>\n",
       "    <tr>\n",
       "      <th>50%</th>\n",
       "      <td>1.000000</td>\n",
       "      <td>53.000000</td>\n",
       "      <td>33768.420000</td>\n",
       "      <td>17.951122</td>\n",
       "      <td>5.000000</td>\n",
       "      <td>1.000000</td>\n",
       "      <td>0.000000</td>\n",
       "      <td>35.836244</td>\n",
       "      <td>5213.952000</td>\n",
       "      <td>11573.977735</td>\n",
       "      <td>...</td>\n",
       "      <td>0.000000</td>\n",
       "      <td>1.000000</td>\n",
       "      <td>0.000000</td>\n",
       "      <td>0.000000</td>\n",
       "      <td>0.000000</td>\n",
       "      <td>0.000000</td>\n",
       "      <td>1.000000</td>\n",
       "      <td>0.000000</td>\n",
       "      <td>0.000000</td>\n",
       "      <td>0.000000</td>\n",
       "    </tr>\n",
       "    <tr>\n",
       "      <th>75%</th>\n",
       "      <td>3.000000</td>\n",
       "      <td>71.000000</td>\n",
       "      <td>54296.402500</td>\n",
       "      <td>19.347963</td>\n",
       "      <td>6.000000</td>\n",
       "      <td>2.000000</td>\n",
       "      <td>1.000000</td>\n",
       "      <td>61.161020</td>\n",
       "      <td>7459.699750</td>\n",
       "      <td>15626.490000</td>\n",
       "      <td>...</td>\n",
       "      <td>1.000000</td>\n",
       "      <td>1.000000</td>\n",
       "      <td>0.000000</td>\n",
       "      <td>1.000000</td>\n",
       "      <td>0.000000</td>\n",
       "      <td>1.000000</td>\n",
       "      <td>1.000000</td>\n",
       "      <td>0.000000</td>\n",
       "      <td>1.000000</td>\n",
       "      <td>0.000000</td>\n",
       "    </tr>\n",
       "    <tr>\n",
       "      <th>max</th>\n",
       "      <td>10.000000</td>\n",
       "      <td>89.000000</td>\n",
       "      <td>207249.100000</td>\n",
       "      <td>26.394449</td>\n",
       "      <td>9.000000</td>\n",
       "      <td>7.000000</td>\n",
       "      <td>5.000000</td>\n",
       "      <td>71.981490</td>\n",
       "      <td>9180.728000</td>\n",
       "      <td>30566.070000</td>\n",
       "      <td>...</td>\n",
       "      <td>1.000000</td>\n",
       "      <td>1.000000</td>\n",
       "      <td>1.000000</td>\n",
       "      <td>1.000000</td>\n",
       "      <td>1.000000</td>\n",
       "      <td>1.000000</td>\n",
       "      <td>1.000000</td>\n",
       "      <td>1.000000</td>\n",
       "      <td>1.000000</td>\n",
       "      <td>1.000000</td>\n",
       "    </tr>\n",
       "  </tbody>\n",
       "</table>\n",
       "<p>8 rows × 30 columns</p>\n",
       "</div>"
      ],
      "text/plain": [
       "           Children           Age         Income   VitD_levels    Doc_visits  \\\n",
       "count  10000.000000  10000.000000   10000.000000  10000.000000  10000.000000   \n",
       "mean       2.097200     53.511700   40490.495160     17.964262      5.012200   \n",
       "std        2.163659     20.638538   28521.153293      2.017231      1.045734   \n",
       "min        0.000000     18.000000     154.080000      9.806483      1.000000   \n",
       "25%        0.000000     36.000000   19598.775000     16.626439      4.000000   \n",
       "50%        1.000000     53.000000   33768.420000     17.951122      5.000000   \n",
       "75%        3.000000     71.000000   54296.402500     19.347963      6.000000   \n",
       "max       10.000000     89.000000  207249.100000     26.394449      9.000000   \n",
       "\n",
       "       Full_meals_eaten     vitD_supp  Initial_days   TotalCharge  \\\n",
       "count      10000.000000  10000.000000  10000.000000  10000.000000   \n",
       "mean           1.001400      0.398900     34.455299   5312.172769   \n",
       "std            1.008117      0.628505     26.309341   2180.393838   \n",
       "min            0.000000      0.000000      1.001981   1938.312067   \n",
       "25%            0.000000      0.000000      7.896215   3179.374015   \n",
       "50%            1.000000      0.000000     35.836244   5213.952000   \n",
       "75%            2.000000      1.000000     61.161020   7459.699750   \n",
       "max            7.000000      5.000000     71.981490   9180.728000   \n",
       "\n",
       "       Additional_charges  ...  Elective Admission  Emergency Admission  \\\n",
       "count        10000.000000  ...        10000.000000         10000.000000   \n",
       "mean         12934.528587  ...            0.250400             0.506000   \n",
       "std           6542.601544  ...            0.433265             0.499989   \n",
       "min           3125.703000  ...            0.000000             0.000000   \n",
       "25%           7986.487755  ...            0.000000             0.000000   \n",
       "50%          11573.977735  ...            0.000000             1.000000   \n",
       "75%          15626.490000  ...            1.000000             1.000000   \n",
       "max          30566.070000  ...            1.000000             1.000000   \n",
       "\n",
       "       Observation Admission          High           Low        Medium  \\\n",
       "count           10000.000000  10000.000000  10000.000000  10000.000000   \n",
       "mean                0.243600      0.335800      0.212500      0.451700   \n",
       "std                 0.429276      0.472293      0.409097      0.497687   \n",
       "min                 0.000000      0.000000      0.000000      0.000000   \n",
       "25%                 0.000000      0.000000      0.000000      0.000000   \n",
       "50%                 0.000000      0.000000      0.000000      0.000000   \n",
       "75%                 0.000000      1.000000      0.000000      1.000000   \n",
       "max                 1.000000      1.000000      1.000000      1.000000   \n",
       "\n",
       "         Blood Work       CT Scan   Intravenous           MRI  \n",
       "count  10000.000000  10000.000000  10000.000000  10000.000000  \n",
       "mean       0.526500      0.122500      0.313000      0.038000  \n",
       "std        0.499322      0.327879      0.463738      0.191206  \n",
       "min        0.000000      0.000000      0.000000      0.000000  \n",
       "25%        0.000000      0.000000      0.000000      0.000000  \n",
       "50%        1.000000      0.000000      0.000000      0.000000  \n",
       "75%        1.000000      0.000000      1.000000      0.000000  \n",
       "max        1.000000      1.000000      1.000000      1.000000  \n",
       "\n",
       "[8 rows x 30 columns]"
      ]
     },
     "execution_count": 9,
     "metadata": {},
     "output_type": "execute_result"
    }
   ],
   "source": [
    "# Impute qualitive data fields by creating binary dummy columns then drop pre-existing column\n",
    "# Exclude redundant values: ex. gender is categorized as male or female, the value 'prefer not to answer' can be identified by both male and female being zero\n",
    "dmy = pd.get_dummies(medical_df['Gender'])\n",
    "dmy = dmy.iloc[:,:-1]\n",
    "medical_df = pd.concat([medical_df,dmy],axis=1)\n",
    "medical_df = medical_df.drop(columns = 'Gender')\n",
    "\n",
    "dmy = pd.get_dummies(medical_df['Initial_admin'])\n",
    "medical_df = pd.concat([medical_df,dmy],axis=1)\n",
    "medical_df = medical_df.drop(columns = 'Initial_admin')\n",
    "\n",
    "dmy = pd.get_dummies(medical_df['Complication_risk'])\n",
    "medical_df = pd.concat([medical_df,dmy],axis=1)\n",
    "medical_df = medical_df.drop(columns = 'Complication_risk')\n",
    "\n",
    "dmy = pd.get_dummies(medical_df['Services'])\n",
    "medical_df = pd.concat([medical_df,dmy],axis=1)\n",
    "medical_df = medical_df.drop(columns = 'Services')\n",
    "\n",
    "medical_df.describe()"
   ]
  },
  {
   "cell_type": "code",
   "execution_count": 10,
   "id": "35d4f750",
   "metadata": {},
   "outputs": [
    {
     "name": "stdout",
     "output_type": "stream",
     "text": [
      "Index(['Children', 'Age', 'Income', 'ReAdmis', 'VitD_levels', 'Doc_visits',\n",
      "       'Full_meals_eaten', 'vitD_supp', 'Soft_drink', 'HighBlood', 'Stroke',\n",
      "       'Overweight', 'Arthritis', 'Diabetes', 'Hyperlipidemia', 'BackPain',\n",
      "       'Anxiety', 'Allergic_rhinitis', 'Reflux_esophagitis', 'Asthma',\n",
      "       'Initial_days', 'TotalCharge', 'Additional_charges',\n",
      "       'Survey_TimelyAdmin', 'Survey_TimelyTreatment', 'Survey_TimelyVisits',\n",
      "       'Survey_Reliability', 'Survey_Options', 'Survey_HoursTreatment',\n",
      "       'Survey_CourteousStaff', 'Survey_ActiveListening', 'Female', 'Male',\n",
      "       'Elective Admission', 'Emergency Admission', 'Observation Admission',\n",
      "       'High', 'Low', 'Medium', 'Blood Work', 'CT Scan', 'Intravenous', 'MRI'],\n",
      "      dtype='object')\n"
     ]
    }
   ],
   "source": [
    "df = medical_df.columns\n",
    "print(df)"
   ]
  },
  {
   "cell_type": "code",
   "execution_count": 11,
   "id": "06358ffe",
   "metadata": {},
   "outputs": [
    {
     "name": "stdout",
     "output_type": "stream",
     "text": [
      "Index(['Children', 'Age', 'Income', 'ReAdmis', 'VitD_levels', 'Doc_visits',\n",
      "       'Full_meals_eaten', 'vitD_supp', 'Soft_drink', 'HighBlood', 'Stroke',\n",
      "       'Overweight', 'Arthritis', 'Diabetes', 'Hyperlipidemia', 'BackPain',\n",
      "       'Anxiety', 'Allergic_rhinitis', 'Reflux_esophagitis', 'Asthma',\n",
      "       'Initial_days', 'TotalCharge', 'Additional_charges',\n",
      "       'Survey_TimelyAdmin', 'Survey_TimelyTreatment', 'Survey_TimelyVisits',\n",
      "       'Survey_Reliability', 'Survey_Options', 'Survey_HoursTreatment',\n",
      "       'Survey_CourteousStaff', 'Survey_ActiveListening', 'Female', 'Male',\n",
      "       'Elective Admission', 'Emergency Admission', 'Observation Admission',\n",
      "       'High', 'Low', 'Medium', 'Blood Work', 'CT Scan', 'Intravenous', 'MRI'],\n",
      "      dtype='object')\n"
     ]
    }
   ],
   "source": [
    "# Impute binomial categoricals as numerics\n",
    "data = medical_df['ReAdmis']\n",
    "readmis_dict = {\n",
    "    \"No\":0,\"Yes\":1\n",
    "}\n",
    "for k,v in readmis_dict.items():\n",
    "    data = data.replace(k,v)\n",
    "    \n",
    "medical_df['ReAdmis'] = data\n",
    "\n",
    "data = medical_df['Soft_drink']\n",
    "for k,v in readmis_dict.items():\n",
    "    data = data.replace(k,v)\n",
    "    \n",
    "medical_df['Soft_drink'] = data\n",
    "\n",
    "data = medical_df['HighBlood']\n",
    "for k,v in readmis_dict.items():\n",
    "    data = data.replace(k,v)\n",
    "\n",
    "medical_df['HighBlood'] = data\n",
    "\n",
    "data = medical_df['Stroke']\n",
    "for k,v in readmis_dict.items():\n",
    "    data = data.replace(k,v)\n",
    "medical_df['Stroke'] = data\n",
    "\n",
    "data = medical_df['Overweight']\n",
    "for k,v in readmis_dict.items():\n",
    "    data = data.replace(k,v)\n",
    "medical_df['Overweight'] = data\n",
    "\n",
    "data = medical_df['Arthritis']\n",
    "for k,v in readmis_dict.items():\n",
    "    data = data.replace(k,v)\n",
    "medical_df['Arthritis'] = data\n",
    "\n",
    "data = medical_df['Diabetes']\n",
    "for k,v in readmis_dict.items():\n",
    "    data = data.replace(k,v)\n",
    "medical_df['Diabetes'] = data\n",
    "\n",
    "data = medical_df['Hyperlipidemia']\n",
    "for k,v in readmis_dict.items():\n",
    "    data = data.replace(k,v)\n",
    "medical_df['Hyperlipidemia'] = data\n",
    "\n",
    "data = medical_df['BackPain']\n",
    "for k,v in readmis_dict.items():\n",
    "    data = data.replace(k,v)\n",
    "medical_df['BackPain'] = data\n",
    "\n",
    "data = medical_df['Anxiety']\n",
    "for k,v in readmis_dict.items():\n",
    "    data = data.replace(k,v)\n",
    "medical_df['Anxiety'] = data\n",
    "\n",
    "data = medical_df['Allergic_rhinitis']\n",
    "for k,v in readmis_dict.items():\n",
    "    data = data.replace(k,v)\n",
    "medical_df['Allergic_rhinitis'] = data\n",
    "\n",
    "data = medical_df['Reflux_esophagitis']\n",
    "for k,v in readmis_dict.items():\n",
    "    data = data.replace(k,v)\n",
    "medical_df['Reflux_esophagitis'] = data\n",
    "\n",
    "data = medical_df['Asthma']\n",
    "for k,v in readmis_dict.items():\n",
    "    data = data.replace(k,v)\n",
    "medical_df['Asthma'] = data\n",
    "\n",
    "df = medical_df.columns\n",
    "print(df)"
   ]
  },
  {
   "cell_type": "code",
   "execution_count": 12,
   "id": "bf1d7e4c",
   "metadata": {},
   "outputs": [
    {
     "name": "stdout",
     "output_type": "stream",
     "text": [
      "Index(['Children', 'Age', 'Income', 'VitD_levels', 'Doc_visits',\n",
      "       'Full_meals_eaten', 'vitD_supp', 'Soft_drink', 'HighBlood', 'Stroke',\n",
      "       'Overweight', 'Arthritis', 'Diabetes', 'Hyperlipidemia', 'BackPain',\n",
      "       'Anxiety', 'Allergic_rhinitis', 'Reflux_esophagitis', 'Asthma',\n",
      "       'Initial_days', 'TotalCharge', 'Additional_charges',\n",
      "       'Survey_TimelyAdmin', 'Survey_TimelyTreatment', 'Survey_TimelyVisits',\n",
      "       'Survey_Reliability', 'Survey_Options', 'Survey_HoursTreatment',\n",
      "       'Survey_CourteousStaff', 'Survey_ActiveListening', 'Female', 'Male',\n",
      "       'Elective Admission', 'Emergency Admission', 'Observation Admission',\n",
      "       'High', 'Low', 'Medium', 'Blood Work', 'CT Scan', 'Intravenous', 'MRI',\n",
      "       'ReAdmis'],\n",
      "      dtype='object')\n"
     ]
    },
    {
     "data": {
      "text/html": [
       "<div>\n",
       "<style scoped>\n",
       "    .dataframe tbody tr th:only-of-type {\n",
       "        vertical-align: middle;\n",
       "    }\n",
       "\n",
       "    .dataframe tbody tr th {\n",
       "        vertical-align: top;\n",
       "    }\n",
       "\n",
       "    .dataframe thead th {\n",
       "        text-align: right;\n",
       "    }\n",
       "</style>\n",
       "<table border=\"1\" class=\"dataframe\">\n",
       "  <thead>\n",
       "    <tr style=\"text-align: right;\">\n",
       "      <th></th>\n",
       "      <th>Children</th>\n",
       "      <th>Age</th>\n",
       "      <th>Income</th>\n",
       "      <th>VitD_levels</th>\n",
       "      <th>Doc_visits</th>\n",
       "      <th>Full_meals_eaten</th>\n",
       "      <th>vitD_supp</th>\n",
       "      <th>Soft_drink</th>\n",
       "      <th>HighBlood</th>\n",
       "      <th>Stroke</th>\n",
       "      <th>...</th>\n",
       "      <th>Emergency Admission</th>\n",
       "      <th>Observation Admission</th>\n",
       "      <th>High</th>\n",
       "      <th>Low</th>\n",
       "      <th>Medium</th>\n",
       "      <th>Blood Work</th>\n",
       "      <th>CT Scan</th>\n",
       "      <th>Intravenous</th>\n",
       "      <th>MRI</th>\n",
       "      <th>ReAdmis</th>\n",
       "    </tr>\n",
       "  </thead>\n",
       "  <tbody>\n",
       "    <tr>\n",
       "      <th>0</th>\n",
       "      <td>1</td>\n",
       "      <td>53</td>\n",
       "      <td>86575.93</td>\n",
       "      <td>19.141466</td>\n",
       "      <td>6</td>\n",
       "      <td>0</td>\n",
       "      <td>0</td>\n",
       "      <td>0</td>\n",
       "      <td>1</td>\n",
       "      <td>0</td>\n",
       "      <td>...</td>\n",
       "      <td>1</td>\n",
       "      <td>0</td>\n",
       "      <td>0</td>\n",
       "      <td>0</td>\n",
       "      <td>1</td>\n",
       "      <td>1</td>\n",
       "      <td>0</td>\n",
       "      <td>0</td>\n",
       "      <td>0</td>\n",
       "      <td>0</td>\n",
       "    </tr>\n",
       "    <tr>\n",
       "      <th>1</th>\n",
       "      <td>3</td>\n",
       "      <td>51</td>\n",
       "      <td>46805.99</td>\n",
       "      <td>18.940352</td>\n",
       "      <td>4</td>\n",
       "      <td>2</td>\n",
       "      <td>1</td>\n",
       "      <td>0</td>\n",
       "      <td>1</td>\n",
       "      <td>0</td>\n",
       "      <td>...</td>\n",
       "      <td>1</td>\n",
       "      <td>0</td>\n",
       "      <td>1</td>\n",
       "      <td>0</td>\n",
       "      <td>0</td>\n",
       "      <td>0</td>\n",
       "      <td>0</td>\n",
       "      <td>1</td>\n",
       "      <td>0</td>\n",
       "      <td>0</td>\n",
       "    </tr>\n",
       "    <tr>\n",
       "      <th>2</th>\n",
       "      <td>3</td>\n",
       "      <td>53</td>\n",
       "      <td>14370.14</td>\n",
       "      <td>18.057507</td>\n",
       "      <td>4</td>\n",
       "      <td>1</td>\n",
       "      <td>0</td>\n",
       "      <td>0</td>\n",
       "      <td>1</td>\n",
       "      <td>0</td>\n",
       "      <td>...</td>\n",
       "      <td>0</td>\n",
       "      <td>0</td>\n",
       "      <td>0</td>\n",
       "      <td>0</td>\n",
       "      <td>1</td>\n",
       "      <td>1</td>\n",
       "      <td>0</td>\n",
       "      <td>0</td>\n",
       "      <td>0</td>\n",
       "      <td>0</td>\n",
       "    </tr>\n",
       "    <tr>\n",
       "      <th>3</th>\n",
       "      <td>0</td>\n",
       "      <td>78</td>\n",
       "      <td>39741.49</td>\n",
       "      <td>16.576858</td>\n",
       "      <td>4</td>\n",
       "      <td>1</td>\n",
       "      <td>0</td>\n",
       "      <td>0</td>\n",
       "      <td>0</td>\n",
       "      <td>1</td>\n",
       "      <td>...</td>\n",
       "      <td>0</td>\n",
       "      <td>0</td>\n",
       "      <td>0</td>\n",
       "      <td>0</td>\n",
       "      <td>1</td>\n",
       "      <td>1</td>\n",
       "      <td>0</td>\n",
       "      <td>0</td>\n",
       "      <td>0</td>\n",
       "      <td>0</td>\n",
       "    </tr>\n",
       "    <tr>\n",
       "      <th>4</th>\n",
       "      <td>1</td>\n",
       "      <td>22</td>\n",
       "      <td>1209.56</td>\n",
       "      <td>17.439069</td>\n",
       "      <td>5</td>\n",
       "      <td>0</td>\n",
       "      <td>2</td>\n",
       "      <td>1</td>\n",
       "      <td>0</td>\n",
       "      <td>0</td>\n",
       "      <td>...</td>\n",
       "      <td>0</td>\n",
       "      <td>0</td>\n",
       "      <td>0</td>\n",
       "      <td>1</td>\n",
       "      <td>0</td>\n",
       "      <td>0</td>\n",
       "      <td>1</td>\n",
       "      <td>0</td>\n",
       "      <td>0</td>\n",
       "      <td>0</td>\n",
       "    </tr>\n",
       "  </tbody>\n",
       "</table>\n",
       "<p>5 rows × 43 columns</p>\n",
       "</div>"
      ],
      "text/plain": [
       "   Children  Age    Income  VitD_levels  Doc_visits  Full_meals_eaten  \\\n",
       "0         1   53  86575.93    19.141466           6                 0   \n",
       "1         3   51  46805.99    18.940352           4                 2   \n",
       "2         3   53  14370.14    18.057507           4                 1   \n",
       "3         0   78  39741.49    16.576858           4                 1   \n",
       "4         1   22   1209.56    17.439069           5                 0   \n",
       "\n",
       "   vitD_supp  Soft_drink  HighBlood  Stroke  ...  Emergency Admission  \\\n",
       "0          0           0          1       0  ...                    1   \n",
       "1          1           0          1       0  ...                    1   \n",
       "2          0           0          1       0  ...                    0   \n",
       "3          0           0          0       1  ...                    0   \n",
       "4          2           1          0       0  ...                    0   \n",
       "\n",
       "   Observation Admission  High  Low  Medium  Blood Work  CT Scan  Intravenous  \\\n",
       "0                      0     0    0       1           1        0            0   \n",
       "1                      0     1    0       0           0        0            1   \n",
       "2                      0     0    0       1           1        0            0   \n",
       "3                      0     0    0       1           1        0            0   \n",
       "4                      0     0    1       0           0        1            0   \n",
       "\n",
       "   MRI  ReAdmis  \n",
       "0    0        0  \n",
       "1    0        0  \n",
       "2    0        0  \n",
       "3    0        0  \n",
       "4    0        0  \n",
       "\n",
       "[5 rows x 43 columns]"
      ]
     },
     "execution_count": 12,
     "metadata": {},
     "output_type": "execute_result"
    }
   ],
   "source": [
    "# Move ReAdmis to the end of the dataframe\n",
    "ReAdmis = medical_df[['ReAdmis']]\n",
    "medical_df.pop(\"ReAdmis\")\n",
    "medical_df['ReAdmis'] = ReAdmis\n",
    "\n",
    "df = medical_df.columns\n",
    "print(df)\n",
    "medical_df.head()"
   ]
  },
  {
   "cell_type": "code",
   "execution_count": 13,
   "id": "8552dd80",
   "metadata": {},
   "outputs": [
    {
     "data": {
      "image/png": "[encoded data removed]",
      "text/plain": [
       "<Figure size 432x288 with 12 Axes>"
      ]
     },
     "metadata": {
      "needs_background": "light"
     },
     "output_type": "display_data"
    }
   ],
   "source": [
    "# Histogram of continuous variables\n",
    "medical_df[['ReAdmis','Children', 'Age', 'Income', 'VitD_levels', 'Doc_visits', \n",
    "          'Full_meals_eaten', 'TotalCharge', 'Additional_charges', 'Initial_days']].hist()\n",
    "plt.savefig('medical_pyplot.jpg')\n",
    "plt.tight_layout()"
   ]
  },
  {
   "cell_type": "code",
   "execution_count": 14,
   "id": "de51364e",
   "metadata": {},
   "outputs": [
    {
     "data": {
      "image/png": "[encoded data removed]",
      "text/plain": [
       "<Figure size 432x288 with 1 Axes>"
      ]
     },
     "metadata": {
      "needs_background": "light"
     },
     "output_type": "display_data"
    }
   ],
   "source": [
    "# Seaborn boxplots for continuous variables\n",
    "sns.boxplot('Children', data = medical_df)\n",
    "plt.show()"
   ]
  },
  {
   "cell_type": "code",
   "execution_count": 15,
   "id": "7c72f8a8",
   "metadata": {},
   "outputs": [
    {
     "data": {
      "image/png": "[encoded data removed]",
      "text/plain": [
       "<Figure size 432x288 with 1 Axes>"
      ]
     },
     "metadata": {
      "needs_background": "light"
     },
     "output_type": "display_data"
    }
   ],
   "source": [
    "sns.boxplot('Age', data = medical_df)\n",
    "plt.show()"
   ]
  },
  {
   "cell_type": "code",
   "execution_count": 16,
   "id": "8edf2140",
   "metadata": {
    "scrolled": true
   },
   "outputs": [
    {
     "data": {
      "image/png": "[encoded data removed]",
      "text/plain": [
       "<Figure size 432x288 with 1 Axes>"
      ]
     },
     "metadata": {
      "needs_background": "light"
     },
     "output_type": "display_data"
    }
   ],
   "source": [
    "sns.boxplot('Income', data = medical_df)\n",
    "plt.show()"
   ]
  },
  {
   "cell_type": "code",
   "execution_count": 17,
   "id": "7434d6e2",
   "metadata": {},
   "outputs": [
    {
     "data": {
      "image/png": "[encoded data removed]",
      "text/plain": [
       "<Figure size 432x288 with 1 Axes>"
      ]
     },
     "metadata": {
      "needs_background": "light"
     },
     "output_type": "display_data"
    }
   ],
   "source": [
    "sns.boxplot('VitD_levels', data = medical_df)\n",
    "plt.show()"
   ]
  },
  {
   "cell_type": "code",
   "execution_count": 18,
   "id": "e6fe59ee",
   "metadata": {},
   "outputs": [
    {
     "data": {
      "image/png": "[encoded data removed]",
      "text/plain": [
       "<Figure size 432x288 with 1 Axes>"
      ]
     },
     "metadata": {
      "needs_background": "light"
     },
     "output_type": "display_data"
    }
   ],
   "source": [
    "sns.boxplot('Doc_visits', data = medical_df)\n",
    "plt.show()"
   ]
  },
  {
   "cell_type": "code",
   "execution_count": 19,
   "id": "d073dad8",
   "metadata": {},
   "outputs": [
    {
     "data": {
      "image/png": "[encoded data removed]",
      "text/plain": [
       "<Figure size 432x288 with 1 Axes>"
      ]
     },
     "metadata": {
      "needs_background": "light"
     },
     "output_type": "display_data"
    }
   ],
   "source": [
    "sns.boxplot('Full_meals_eaten', data = medical_df)\n",
    "plt.show()"
   ]
  },
  {
   "cell_type": "code",
   "execution_count": 20,
   "id": "f40b4b1d",
   "metadata": {},
   "outputs": [
    {
     "data": {
      "image/png": "[encoded data removed]",
      "text/plain": [
       "<Figure size 432x288 with 1 Axes>"
      ]
     },
     "metadata": {
      "needs_background": "light"
     },
     "output_type": "display_data"
    }
   ],
   "source": [
    "sns.boxplot('TotalCharge', data = medical_df)\n",
    "plt.show()"
   ]
  },
  {
   "cell_type": "code",
   "execution_count": 21,
   "id": "aa2885dd",
   "metadata": {},
   "outputs": [
    {
     "data": {
      "image/png": "[encoded data removed]",
      "text/plain": [
       "<Figure size 432x288 with 1 Axes>"
      ]
     },
     "metadata": {
      "needs_background": "light"
     },
     "output_type": "display_data"
    }
   ],
   "source": [
    "sns.boxplot('Additional_charges', data = medical_df)\n",
    "plt.show()"
   ]
  },
  {
   "cell_type": "code",
   "execution_count": 22,
   "id": "fa8f9a4a",
   "metadata": {},
   "outputs": [
    {
     "data": {
      "image/png": "[encoded data removed]",
      "text/plain": [
       "<Figure size 432x288 with 1 Axes>"
      ]
     },
     "metadata": {
      "needs_background": "light"
     },
     "output_type": "display_data"
    }
   ],
   "source": [
    "sns.boxplot('Initial_days', data = medical_df)\n",
    "plt.show()"
   ]
  },
  {
   "cell_type": "code",
   "execution_count": 23,
   "id": "81c1897b",
   "metadata": {},
   "outputs": [],
   "source": [
    "# The remaining outliers are justifiable and do not need to be removed"
   ]
  },
  {
   "cell_type": "code",
   "execution_count": 24,
   "id": "bad167a2",
   "metadata": {},
   "outputs": [
    {
     "data": {
      "image/png": "[encoded data removed]",
      "text/plain": [
       "<Figure size 432x288 with 1 Axes>"
      ]
     },
     "metadata": {
      "needs_background": "light"
     },
     "output_type": "display_data"
    }
   ],
   "source": [
    "# Scatterplots to show relationships between target and independant variables\n",
    "sns.scatterplot(x=medical_df['Children'], y=medical_df['ReAdmis'], color='blue')\n",
    "plt.show();"
   ]
  },
  {
   "cell_type": "code",
   "execution_count": 25,
   "id": "18444057",
   "metadata": {},
   "outputs": [
    {
     "data": {
      "image/png": "[encoded data removed]",
      "text/plain": [
       "<Figure size 432x288 with 1 Axes>"
      ]
     },
     "metadata": {
      "needs_background": "light"
     },
     "output_type": "display_data"
    }
   ],
   "source": [
    "sns.scatterplot(x=medical_df['Age'], y=medical_df['ReAdmis'], color='blue')\n",
    "plt.show();"
   ]
  },
  {
   "cell_type": "code",
   "execution_count": 26,
   "id": "9e1d5f79",
   "metadata": {},
   "outputs": [
    {
     "data": {
      "image/png": "[encoded data removed]",
      "text/plain": [
       "<Figure size 432x288 with 1 Axes>"
      ]
     },
     "metadata": {
      "needs_background": "light"
     },
     "output_type": "display_data"
    }
   ],
   "source": [
    "sns.scatterplot(x=medical_df['Income'], y=medical_df['ReAdmis'], color='blue')\n",
    "plt.show();"
   ]
  },
  {
   "cell_type": "code",
   "execution_count": 27,
   "id": "2ecb40aa",
   "metadata": {},
   "outputs": [
    {
     "data": {
      "image/png": "[encoded data removed]",
      "text/plain": [
       "<Figure size 432x288 with 1 Axes>"
      ]
     },
     "metadata": {
      "needs_background": "light"
     },
     "output_type": "display_data"
    }
   ],
   "source": [
    "sns.scatterplot(x=medical_df['VitD_levels'], y=medical_df['ReAdmis'], color='blue')\n",
    "plt.show();"
   ]
  },
  {
   "cell_type": "code",
   "execution_count": 28,
   "id": "fe066169",
   "metadata": {},
   "outputs": [
    {
     "data": {
      "image/png": "[encoded data removed]",
      "text/plain": [
       "<Figure size 432x288 with 1 Axes>"
      ]
     },
     "metadata": {
      "needs_background": "light"
     },
     "output_type": "display_data"
    }
   ],
   "source": [
    "sns.scatterplot(x=medical_df['Doc_visits'], y=medical_df['ReAdmis'], color='blue')\n",
    "plt.show();"
   ]
  },
  {
   "cell_type": "code",
   "execution_count": 29,
   "id": "30f80872",
   "metadata": {},
   "outputs": [
    {
     "data": {
      "image/png": "[encoded data removed]",
      "text/plain": [
       "<Figure size 432x288 with 1 Axes>"
      ]
     },
     "metadata": {
      "needs_background": "light"
     },
     "output_type": "display_data"
    }
   ],
   "source": [
    "sns.scatterplot(x=medical_df['Full_meals_eaten'], y=medical_df['ReAdmis'], color='blue')\n",
    "plt.show();"
   ]
  },
  {
   "cell_type": "code",
   "execution_count": 30,
   "id": "fb9d26a1",
   "metadata": {},
   "outputs": [
    {
     "data": {
      "image/png": "[encoded data removed]",
      "text/plain": [
       "<Figure size 432x288 with 1 Axes>"
      ]
     },
     "metadata": {
      "needs_background": "light"
     },
     "output_type": "display_data"
    }
   ],
   "source": [
    "sns.scatterplot(x=medical_df['vitD_supp'], y=medical_df['ReAdmis'], color='blue')\n",
    "plt.show();"
   ]
  },
  {
   "cell_type": "code",
   "execution_count": 31,
   "id": "aa649fe8",
   "metadata": {},
   "outputs": [
    {
     "data": {
      "image/png": "[encoded data removed]",
      "text/plain": [
       "<Figure size 432x288 with 1 Axes>"
      ]
     },
     "metadata": {
      "needs_background": "light"
     },
     "output_type": "display_data"
    }
   ],
   "source": [
    "sns.scatterplot(x=medical_df['Soft_drink'], y=medical_df['ReAdmis'], color='blue')\n",
    "plt.show();"
   ]
  },
  {
   "cell_type": "code",
   "execution_count": 32,
   "id": "3da78d60",
   "metadata": {},
   "outputs": [
    {
     "data": {
      "image/png": "[encoded data removed]",
      "text/plain": [
       "<Figure size 432x288 with 1 Axes>"
      ]
     },
     "metadata": {
      "needs_background": "light"
     },
     "output_type": "display_data"
    }
   ],
   "source": [
    "sns.scatterplot(x=medical_df['HighBlood'], y=medical_df['ReAdmis'], color='blue')\n",
    "plt.show();"
   ]
  },
  {
   "cell_type": "code",
   "execution_count": 33,
   "id": "8c0f0073",
   "metadata": {},
   "outputs": [
    {
     "data": {
      "image/png": "[encoded data removed]",
      "text/plain": [
       "<Figure size 432x288 with 1 Axes>"
      ]
     },
     "metadata": {
      "needs_background": "light"
     },
     "output_type": "display_data"
    }
   ],
   "source": [
    "sns.scatterplot(x=medical_df['Stroke'], y=medical_df['ReAdmis'], color='blue')\n",
    "plt.show();"
   ]
  },
  {
   "cell_type": "code",
   "execution_count": 34,
   "id": "b3a40dab",
   "metadata": {},
   "outputs": [],
   "source": [
    "#sns.scatterplot(x=medical_df['Complication_risk'], y=medical_df['ReAdmis'], color='blue')\n",
    "#plt.show();"
   ]
  },
  {
   "cell_type": "code",
   "execution_count": 35,
   "id": "66dc1ca0",
   "metadata": {},
   "outputs": [
    {
     "data": {
      "image/png": "[encoded data removed]",
      "text/plain": [
       "<Figure size 432x288 with 1 Axes>"
      ]
     },
     "metadata": {
      "needs_background": "light"
     },
     "output_type": "display_data"
    }
   ],
   "source": [
    "sns.scatterplot(x=medical_df['Overweight'], y=medical_df['ReAdmis'], color='blue')\n",
    "plt.show();"
   ]
  },
  {
   "cell_type": "code",
   "execution_count": 36,
   "id": "595aec96",
   "metadata": {},
   "outputs": [
    {
     "data": {
      "image/png": "[encoded data removed]",
      "text/plain": [
       "<Figure size 432x288 with 1 Axes>"
      ]
     },
     "metadata": {
      "needs_background": "light"
     },
     "output_type": "display_data"
    }
   ],
   "source": [
    "sns.scatterplot(x=medical_df['Arthritis'], y=medical_df['ReAdmis'], color='blue')\n",
    "plt.show();"
   ]
  },
  {
   "cell_type": "code",
   "execution_count": 37,
   "id": "d4f08a3e",
   "metadata": {},
   "outputs": [
    {
     "data": {
      "image/png": "[encoded data removed]",
      "text/plain": [
       "<Figure size 432x288 with 1 Axes>"
      ]
     },
     "metadata": {
      "needs_background": "light"
     },
     "output_type": "display_data"
    }
   ],
   "source": [
    "sns.scatterplot(x=medical_df['Diabetes'], y=medical_df['ReAdmis'], color='blue')\n",
    "plt.show();"
   ]
  },
  {
   "cell_type": "code",
   "execution_count": 38,
   "id": "12c75cd7",
   "metadata": {},
   "outputs": [
    {
     "data": {
      "image/png": "[encoded data removed]",
      "text/plain": [
       "<Figure size 432x288 with 1 Axes>"
      ]
     },
     "metadata": {
      "needs_background": "light"
     },
     "output_type": "display_data"
    }
   ],
   "source": [
    "sns.scatterplot(x=medical_df['Hyperlipidemia'], y=medical_df['ReAdmis'], color='blue')\n",
    "plt.show();"
   ]
  },
  {
   "cell_type": "code",
   "execution_count": 39,
   "id": "fbcd8a65",
   "metadata": {},
   "outputs": [
    {
     "data": {
      "image/png": "[encoded data removed]",
      "text/plain": [
       "<Figure size 432x288 with 1 Axes>"
      ]
     },
     "metadata": {
      "needs_background": "light"
     },
     "output_type": "display_data"
    }
   ],
   "source": [
    "sns.scatterplot(x=medical_df['BackPain'], y=medical_df['ReAdmis'], color='blue')\n",
    "plt.show();"
   ]
  },
  {
   "cell_type": "code",
   "execution_count": 40,
   "id": "fbb5b17b",
   "metadata": {},
   "outputs": [
    {
     "data": {
      "image/png": "[encoded data removed]",
      "text/plain": [
       "<Figure size 432x288 with 1 Axes>"
      ]
     },
     "metadata": {
      "needs_background": "light"
     },
     "output_type": "display_data"
    }
   ],
   "source": [
    "sns.scatterplot(x=medical_df['Anxiety'], y=medical_df['ReAdmis'], color='blue')\n",
    "plt.show();"
   ]
  },
  {
   "cell_type": "code",
   "execution_count": 41,
   "id": "56f8683a",
   "metadata": {},
   "outputs": [
    {
     "data": {
      "image/png": "[encoded data removed]",
      "text/plain": [
       "<Figure size 432x288 with 1 Axes>"
      ]
     },
     "metadata": {
      "needs_background": "light"
     },
     "output_type": "display_data"
    }
   ],
   "source": [
    "sns.scatterplot(x=medical_df['Allergic_rhinitis'], y=medical_df['ReAdmis'], color='blue')\n",
    "plt.show();"
   ]
  },
  {
   "cell_type": "code",
   "execution_count": 42,
   "id": "93d16699",
   "metadata": {},
   "outputs": [
    {
     "data": {
      "image/png": "[encoded data removed]",
      "text/plain": [
       "<Figure size 432x288 with 1 Axes>"
      ]
     },
     "metadata": {
      "needs_background": "light"
     },
     "output_type": "display_data"
    }
   ],
   "source": [
    "sns.scatterplot(x=medical_df['Reflux_esophagitis'], y=medical_df['ReAdmis'], color='blue')\n",
    "plt.show();"
   ]
  },
  {
   "cell_type": "code",
   "execution_count": 43,
   "id": "fa9b2284",
   "metadata": {},
   "outputs": [
    {
     "data": {
      "image/png": "[encoded data removed]",
      "text/plain": [
       "<Figure size 432x288 with 1 Axes>"
      ]
     },
     "metadata": {
      "needs_background": "light"
     },
     "output_type": "display_data"
    }
   ],
   "source": [
    "sns.scatterplot(x=medical_df['Asthma'], y=medical_df['ReAdmis'], color='blue')\n",
    "plt.show();"
   ]
  },
  {
   "cell_type": "code",
   "execution_count": 44,
   "id": "a8724e42",
   "metadata": {},
   "outputs": [
    {
     "data": {
      "image/png": "[encoded data removed]",
      "text/plain": [
       "<Figure size 432x288 with 1 Axes>"
      ]
     },
     "metadata": {
      "needs_background": "light"
     },
     "output_type": "display_data"
    }
   ],
   "source": [
    "sns.scatterplot(x=medical_df['Initial_days'], y=medical_df['ReAdmis'], color='blue')\n",
    "plt.show();"
   ]
  },
  {
   "cell_type": "code",
   "execution_count": 45,
   "id": "f72e41e0",
   "metadata": {},
   "outputs": [
    {
     "data": {
      "image/png": "[encoded data removed]",
      "text/plain": [
       "<Figure size 432x288 with 1 Axes>"
      ]
     },
     "metadata": {
      "needs_background": "light"
     },
     "output_type": "display_data"
    }
   ],
   "source": [
    "sns.scatterplot(x=medical_df['TotalCharge'], y=medical_df['ReAdmis'], color='blue')\n",
    "plt.show();"
   ]
  },
  {
   "cell_type": "code",
   "execution_count": 46,
   "id": "83e2fa22",
   "metadata": {},
   "outputs": [
    {
     "data": {
      "image/png": "[encoded data removed]",
      "text/plain": [
       "<Figure size 432x288 with 1 Axes>"
      ]
     },
     "metadata": {
      "needs_background": "light"
     },
     "output_type": "display_data"
    }
   ],
   "source": [
    "sns.scatterplot(x=medical_df['Additional_charges'], y=medical_df['ReAdmis'], color='blue')\n",
    "plt.show();"
   ]
  },
  {
   "cell_type": "code",
   "execution_count": 47,
   "id": "9d1c1a19",
   "metadata": {},
   "outputs": [
    {
     "data": {
      "image/png": "[encoded data removed]",
      "text/plain": [
       "<Figure size 432x288 with 1 Axes>"
      ]
     },
     "metadata": {
      "needs_background": "light"
     },
     "output_type": "display_data"
    }
   ],
   "source": [
    "sns.scatterplot(x=medical_df['Survey_TimelyAdmin'], y=medical_df['ReAdmis'], color='blue')\n",
    "plt.show();"
   ]
  },
  {
   "cell_type": "code",
   "execution_count": 48,
   "id": "89d5d745",
   "metadata": {},
   "outputs": [
    {
     "data": {
      "image/png": "[encoded data removed]",
      "text/plain": [
       "<Figure size 432x288 with 1 Axes>"
      ]
     },
     "metadata": {
      "needs_background": "light"
     },
     "output_type": "display_data"
    }
   ],
   "source": [
    "sns.scatterplot(x=medical_df['Survey_TimelyTreatment'], y=medical_df['ReAdmis'], color='blue')\n",
    "plt.show();"
   ]
  },
  {
   "cell_type": "code",
   "execution_count": 49,
   "id": "481fc118",
   "metadata": {},
   "outputs": [
    {
     "data": {
      "image/png": "[encoded data removed]",
      "text/plain": [
       "<Figure size 432x288 with 1 Axes>"
      ]
     },
     "metadata": {
      "needs_background": "light"
     },
     "output_type": "display_data"
    }
   ],
   "source": [
    "sns.scatterplot(x=medical_df['Survey_TimelyVisits'], y=medical_df['ReAdmis'], color='blue')\n",
    "plt.show();"
   ]
  },
  {
   "cell_type": "code",
   "execution_count": 50,
   "id": "dd595229",
   "metadata": {},
   "outputs": [
    {
     "data": {
      "image/png": "[encoded data removed]",
      "text/plain": [
       "<Figure size 432x288 with 1 Axes>"
      ]
     },
     "metadata": {
      "needs_background": "light"
     },
     "output_type": "display_data"
    }
   ],
   "source": [
    "sns.scatterplot(x=medical_df['Survey_Reliability'], y=medical_df['ReAdmis'], color='blue')\n",
    "plt.show();"
   ]
  },
  {
   "cell_type": "code",
   "execution_count": 51,
   "id": "3369f7fb",
   "metadata": {},
   "outputs": [
    {
     "data": {
      "image/png": "[encoded data removed]",
      "text/plain": [
       "<Figure size 432x288 with 1 Axes>"
      ]
     },
     "metadata": {
      "needs_background": "light"
     },
     "output_type": "display_data"
    }
   ],
   "source": [
    "sns.scatterplot(x=medical_df['Survey_Options'], y=medical_df['ReAdmis'], color='blue')\n",
    "plt.show();"
   ]
  },
  {
   "cell_type": "code",
   "execution_count": 52,
   "id": "13fa1dce",
   "metadata": {},
   "outputs": [
    {
     "data": {
      "image/png": "[encoded data removed]",
      "text/plain": [
       "<Figure size 432x288 with 1 Axes>"
      ]
     },
     "metadata": {
      "needs_background": "light"
     },
     "output_type": "display_data"
    }
   ],
   "source": [
    "sns.scatterplot(x=medical_df['Survey_HoursTreatment'], y=medical_df['ReAdmis'], color='blue')\n",
    "plt.show();"
   ]
  },
  {
   "cell_type": "code",
   "execution_count": 53,
   "id": "f17d45f8",
   "metadata": {},
   "outputs": [
    {
     "data": {
      "image/png": "[encoded data removed]",
      "text/plain": [
       "<Figure size 432x288 with 1 Axes>"
      ]
     },
     "metadata": {
      "needs_background": "light"
     },
     "output_type": "display_data"
    }
   ],
   "source": [
    "sns.scatterplot(x=medical_df['Survey_CourteousStaff'], y=medical_df['ReAdmis'], color='blue')\n",
    "plt.show();"
   ]
  },
  {
   "cell_type": "code",
   "execution_count": 54,
   "id": "ebaf1541",
   "metadata": {},
   "outputs": [
    {
     "data": {
      "image/png": "[encoded data removed]",
      "text/plain": [
       "<Figure size 432x288 with 1 Axes>"
      ]
     },
     "metadata": {
      "needs_background": "light"
     },
     "output_type": "display_data"
    }
   ],
   "source": [
    "sns.scatterplot(x=medical_df['Survey_ActiveListening'], y=medical_df['ReAdmis'], color='blue')\n",
    "plt.show();"
   ]
  },
  {
   "cell_type": "code",
   "execution_count": 55,
   "id": "0a59e477",
   "metadata": {},
   "outputs": [
    {
     "data": {
      "image/png": "[encoded data removed]",
      "text/plain": [
       "<Figure size 432x288 with 1 Axes>"
      ]
     },
     "metadata": {
      "needs_background": "light"
     },
     "output_type": "display_data"
    }
   ],
   "source": [
    "sns.scatterplot(x=medical_df['Female'], y=medical_df['ReAdmis'], color='blue')\n",
    "plt.show();"
   ]
  },
  {
   "cell_type": "code",
   "execution_count": 56,
   "id": "ee5a84ca",
   "metadata": {},
   "outputs": [
    {
     "data": {
      "image/png": "[encoded data removed]",
      "text/plain": [
       "<Figure size 432x288 with 1 Axes>"
      ]
     },
     "metadata": {
      "needs_background": "light"
     },
     "output_type": "display_data"
    }
   ],
   "source": [
    "sns.scatterplot(x=medical_df['Male'], y=medical_df['ReAdmis'], color='blue')\n",
    "plt.show();"
   ]
  },
  {
   "cell_type": "code",
   "execution_count": 57,
   "id": "df966253",
   "metadata": {},
   "outputs": [
    {
     "data": {
      "image/png": "[encoded data removed]",
      "text/plain": [
       "<Figure size 432x288 with 1 Axes>"
      ]
     },
     "metadata": {
      "needs_background": "light"
     },
     "output_type": "display_data"
    }
   ],
   "source": [
    "sns.scatterplot(x=medical_df['Elective Admission'], y=medical_df['ReAdmis'], color='blue')\n",
    "plt.show();"
   ]
  },
  {
   "cell_type": "code",
   "execution_count": 58,
   "id": "c2db7383",
   "metadata": {},
   "outputs": [
    {
     "data": {
      "image/png": "[encoded data removed]",
      "text/plain": [
       "<Figure size 432x288 with 1 Axes>"
      ]
     },
     "metadata": {
      "needs_background": "light"
     },
     "output_type": "display_data"
    }
   ],
   "source": [
    "sns.scatterplot(x=medical_df['Emergency Admission'], y=medical_df['ReAdmis'], color='blue')\n",
    "plt.show();"
   ]
  },
  {
   "cell_type": "code",
   "execution_count": 59,
   "id": "33d4f115",
   "metadata": {},
   "outputs": [
    {
     "data": {
      "image/png": "[encoded data removed]",
      "text/plain": [
       "<Figure size 432x288 with 1 Axes>"
      ]
     },
     "metadata": {
      "needs_background": "light"
     },
     "output_type": "display_data"
    }
   ],
   "source": [
    "sns.scatterplot(x=medical_df['Observation Admission'], y=medical_df['ReAdmis'], color='blue')\n",
    "plt.show();"
   ]
  },
  {
   "cell_type": "code",
   "execution_count": 60,
   "id": "f392a190",
   "metadata": {},
   "outputs": [
    {
     "data": {
      "image/png": "[encoded data removed]",
      "text/plain": [
       "<Figure size 432x288 with 1 Axes>"
      ]
     },
     "metadata": {
      "needs_background": "light"
     },
     "output_type": "display_data"
    }
   ],
   "source": [
    "sns.scatterplot(x=medical_df['Blood Work'], y=medical_df['ReAdmis'], color='blue')\n",
    "plt.show();"
   ]
  },
  {
   "cell_type": "code",
   "execution_count": 61,
   "id": "e002de9f",
   "metadata": {},
   "outputs": [
    {
     "data": {
      "image/png": "[encoded data removed]",
      "text/plain": [
       "<Figure size 432x288 with 1 Axes>"
      ]
     },
     "metadata": {
      "needs_background": "light"
     },
     "output_type": "display_data"
    }
   ],
   "source": [
    "sns.scatterplot(x=medical_df['CT Scan'], y=medical_df['ReAdmis'], color='blue')\n",
    "plt.show();"
   ]
  },
  {
   "cell_type": "code",
   "execution_count": 62,
   "id": "26feae05",
   "metadata": {},
   "outputs": [
    {
     "data": {
      "image/png": "[encoded data removed]",
      "text/plain": [
       "<Figure size 432x288 with 1 Axes>"
      ]
     },
     "metadata": {
      "needs_background": "light"
     },
     "output_type": "display_data"
    }
   ],
   "source": [
    "sns.scatterplot(x=medical_df['Intravenous'], y=medical_df['ReAdmis'], color='blue')\n",
    "plt.show();"
   ]
  },
  {
   "cell_type": "code",
   "execution_count": 63,
   "id": "ce862115",
   "metadata": {},
   "outputs": [
    {
     "data": {
      "image/png": "[encoded data removed]",
      "text/plain": [
       "<Figure size 432x288 with 1 Axes>"
      ]
     },
     "metadata": {
      "needs_background": "light"
     },
     "output_type": "display_data"
    }
   ],
   "source": [
    "sns.scatterplot(x=medical_df['MRI'], y=medical_df['ReAdmis'], color='blue')\n",
    "plt.show();"
   ]
  },
  {
   "cell_type": "code",
   "execution_count": 64,
   "id": "330a8823",
   "metadata": {},
   "outputs": [
    {
     "data": {
      "text/plain": [
       "Index(['Children', 'Age', 'Income', 'VitD_levels', 'Doc_visits',\n",
       "       'Full_meals_eaten', 'vitD_supp', 'Soft_drink', 'HighBlood', 'Stroke',\n",
       "       'Overweight', 'Arthritis', 'Diabetes', 'Hyperlipidemia', 'BackPain',\n",
       "       'Anxiety', 'Allergic_rhinitis', 'Reflux_esophagitis', 'Asthma',\n",
       "       'Initial_days', 'TotalCharge', 'Additional_charges',\n",
       "       'Survey_TimelyAdmin', 'Survey_TimelyTreatment', 'Survey_TimelyVisits',\n",
       "       'Survey_Reliability', 'Survey_Options', 'Survey_HoursTreatment',\n",
       "       'Survey_CourteousStaff', 'Survey_ActiveListening', 'Female', 'Male',\n",
       "       'Elective Admission', 'Emergency Admission', 'Observation Admission',\n",
       "       'High', 'Low', 'Medium', 'Blood Work', 'CT Scan', 'Intravenous', 'MRI',\n",
       "       'ReAdmis'],\n",
       "      dtype='object')"
      ]
     },
     "execution_count": 64,
     "metadata": {},
     "output_type": "execute_result"
    }
   ],
   "source": [
    "# Extract Clean dataset\n",
    "medical_df.to_csv('medical_prepared_log.csv')\n",
    "\n",
    "medical_df.columns"
   ]
  },
  {
   "cell_type": "code",
   "execution_count": 65,
   "id": "3b2200f8",
   "metadata": {},
   "outputs": [
    {
     "name": "stdout",
     "output_type": "stream",
     "text": [
      "Optimization terminated successfully.\n",
      "         Current function value: 0.044286\n",
      "         Iterations 13\n",
      "                           Logit Regression Results                           \n",
      "==============================================================================\n",
      "Dep. Variable:                ReAdmis   No. Observations:                10000\n",
      "Model:                          Logit   Df Residuals:                     9981\n",
      "Method:                           MLE   Df Model:                           18\n",
      "Date:                Sun, 20 Feb 2022   Pseudo R-squ.:                  0.9326\n",
      "Time:                        21:48:56   Log-Likelihood:                -442.86\n",
      "converged:                       True   LL-Null:                       -6572.9\n",
      "Covariance Type:            nonrobust   LLR p-value:                     0.000\n",
      "==========================================================================================\n",
      "                             coef    std err          z      P>|z|      [0.025      0.975]\n",
      "------------------------------------------------------------------------------------------\n",
      "Children                   0.0558      0.039      1.425      0.154      -0.021       0.133\n",
      "Age                       -0.0130      0.006     -2.138      0.033      -0.025      -0.001\n",
      "Income                 -8.058e-07   3.08e-06     -0.262      0.794   -6.84e-06    5.23e-06\n",
      "VitD_levels                0.0328      0.043      0.767      0.443      -0.051       0.117\n",
      "Doc_visits                -0.0073      0.081     -0.090      0.928      -0.166       0.152\n",
      "Full_meals_eaten           0.0067      0.089      0.075      0.940      -0.168       0.182\n",
      "vitD_supp                 -0.0328      0.136     -0.240      0.810      -0.300       0.235\n",
      "Initial_days               0.9238      0.050     18.615      0.000       0.827       1.021\n",
      "TotalCharge                0.0019      0.000      7.121      0.000       0.001       0.002\n",
      "Additional_charges      5.578e-05   1.98e-05      2.823      0.005    1.71e-05    9.45e-05\n",
      "Survey_TimelyAdmin         0.0077      0.128      0.060      0.952      -0.244       0.259\n",
      "Survey_TimelyTreatment     0.2462      0.113      2.176      0.030       0.024       0.468\n",
      "Survey_TimelyVisits       -0.1311      0.108     -1.212      0.225      -0.343       0.081\n",
      "Survey_Reliability         0.0225      0.096      0.233      0.815      -0.166       0.211\n",
      "Survey_Options            -0.0888      0.100     -0.887      0.375      -0.285       0.107\n",
      "Survey_HoursTreatment     -0.0043      0.104     -0.041      0.967      -0.209       0.200\n",
      "Survey_CourteousStaff      0.0301      0.095      0.315      0.752      -0.157       0.217\n",
      "Survey_ActiveListening    -0.1779      0.092     -1.944      0.052      -0.357       0.001\n",
      "intercept                -63.8903      3.315    -19.275      0.000     -70.387     -57.394\n",
      "==========================================================================================\n",
      "\n",
      "Possibly complete quasi-separation: A fraction 0.76 of observations can be\n",
      "perfectly predicted. This might indicate that there is complete\n",
      "quasi-separation. In this case some parameters will not be identified.\n"
     ]
    }
   ],
   "source": [
    "# Initial estimated regression equation that could be used to predict the probability of ReAdmis, given the only \n",
    "# non-binary original variables\n",
    "medical_df['intercept'] = 1\n",
    "medical_df = pd.get_dummies(medical_df, drop_first = True)\n",
    "ReAdmis_logit_model = sm.Logit(medical_df['ReAdmis'], medical_df[['Children', 'Age', 'Income', 'VitD_levels', 'Doc_visits', \n",
    "          'Full_meals_eaten', 'vitD_supp', 'Initial_days', 'TotalCharge', 'Additional_charges', 'Survey_TimelyAdmin',\n",
    "        'Survey_TimelyTreatment', 'Survey_TimelyVisits', 'Survey_Reliability', 'Survey_Options', 'Survey_HoursTreatment',\n",
    "        'Survey_CourteousStaff', 'Survey_ActiveListening', 'intercept']]).fit()\n",
    "print(ReAdmis_logit_model.summary())"
   ]
  },
  {
   "cell_type": "code",
   "execution_count": 66,
   "id": "544376b3",
   "metadata": {},
   "outputs": [
    {
     "name": "stdout",
     "output_type": "stream",
     "text": [
      "Index(['Children', 'Age', 'Income', 'VitD_levels', 'Doc_visits',\n",
      "       'Full_meals_eaten', 'vitD_supp', 'Soft_drink', 'HighBlood', 'Stroke',\n",
      "       'Overweight', 'Arthritis', 'Diabetes', 'Hyperlipidemia', 'BackPain',\n",
      "       'Anxiety', 'Allergic_rhinitis', 'Reflux_esophagitis', 'Asthma',\n",
      "       'Initial_days', 'TotalCharge', 'Additional_charges',\n",
      "       'Survey_TimelyAdmin', 'Survey_TimelyTreatment', 'Survey_TimelyVisits',\n",
      "       'Survey_Reliability', 'Survey_Options', 'Survey_HoursTreatment',\n",
      "       'Survey_CourteousStaff', 'Survey_ActiveListening', 'Female', 'Male',\n",
      "       'Elective Admission', 'Emergency Admission', 'Observation Admission',\n",
      "       'High', 'Low', 'Medium', 'Blood Work', 'CT Scan', 'Intravenous', 'MRI',\n",
      "       'ReAdmis', 'intercept'],\n",
      "      dtype='object')\n"
     ]
    }
   ],
   "source": [
    "medical_df_dummies = medical_df.columns\n",
    "print(medical_df_dummies)"
   ]
  },
  {
   "cell_type": "code",
   "execution_count": 67,
   "id": "82454071",
   "metadata": {
    "scrolled": false
   },
   "outputs": [
    {
     "name": "stdout",
     "output_type": "stream",
     "text": [
      "Optimization terminated successfully.\n",
      "         Current function value: 0.038911\n",
      "         Iterations 13\n",
      "                           Logit Regression Results                           \n",
      "==============================================================================\n",
      "Dep. Variable:                ReAdmis   No. Observations:                10000\n",
      "Model:                          Logit   Df Residuals:                     9972\n",
      "Method:                           MLE   Df Model:                           27\n",
      "Date:                Sun, 20 Feb 2022   Pseudo R-squ.:                  0.9408\n",
      "Time:                        21:48:56   Log-Likelihood:                -389.11\n",
      "converged:                       True   LL-Null:                       -6572.9\n",
      "Covariance Type:            nonrobust   LLR p-value:                     0.000\n",
      "==========================================================================================\n",
      "                             coef    std err          z      P>|z|      [0.025      0.975]\n",
      "------------------------------------------------------------------------------------------\n",
      "Children                   0.0701      0.042      1.662      0.097      -0.013       0.153\n",
      "Age                       -0.0245      0.007     -3.526      0.000      -0.038      -0.011\n",
      "Income                  -1.08e-06   3.33e-06     -0.324      0.746   -7.61e-06    5.45e-06\n",
      "VitD_levels                0.0240      0.046      0.518      0.604      -0.067       0.115\n",
      "Doc_visits                 0.0101      0.090      0.113      0.910      -0.166       0.186\n",
      "Full_meals_eaten          -0.0181      0.097     -0.187      0.851      -0.207       0.171\n",
      "vitD_supp                 -0.0689      0.150     -0.460      0.646      -0.363       0.225\n",
      "Initial_days               1.4997      0.112     13.420      0.000       1.281       1.719\n",
      "TotalCharge               -0.0032      0.001     -3.299      0.001      -0.005      -0.001\n",
      "Additional_charges         0.0001   2.38e-05      4.631      0.000    6.36e-05       0.000\n",
      "Survey_TimelyAdmin         0.0806      0.139      0.580      0.562      -0.192       0.353\n",
      "Survey_TimelyTreatment     0.2072      0.121      1.708      0.088      -0.031       0.445\n",
      "Survey_TimelyVisits       -0.1757      0.117     -1.506      0.132      -0.404       0.053\n",
      "Survey_Reliability         0.0491      0.103      0.477      0.634      -0.153       0.251\n",
      "Survey_Options            -0.1239      0.106     -1.171      0.242      -0.331       0.084\n",
      "Survey_HoursTreatment     -0.0245      0.111     -0.220      0.826      -0.242       0.193\n",
      "Survey_CourteousStaff      0.0729      0.102      0.714      0.475      -0.127       0.273\n",
      "Survey_ActiveListening    -0.1733      0.097     -1.786      0.074      -0.364       0.017\n",
      "Female                    -0.4906      0.618     -0.794      0.427      -1.701       0.720\n",
      "Male                      -0.3090      0.617     -0.501      0.617      -1.518       0.900\n",
      "Elective Admission       -11.7926        nan        nan        nan         nan         nan\n",
      "Emergency Admission       -8.0599        nan        nan        nan         nan         nan\n",
      "Observation Admission    -11.0459        nan        nan        nan         nan         nan\n",
      "Blood Work                -8.6950        nan        nan        nan         nan         nan\n",
      "CT Scan                   -7.1821        nan        nan        nan         nan         nan\n",
      "Intravenous               -8.6812        nan        nan        nan         nan         nan\n",
      "MRI                       -6.3396        nan        nan        nan         nan         nan\n",
      "High                      -8.8487        nan        nan        nan         nan         nan\n",
      "Low                      -11.6099        nan        nan        nan         nan         nan\n",
      "Medium                   -10.4396        nan        nan        nan         nan         nan\n",
      "intercept                -30.8982   7.01e+06  -4.41e-06      1.000   -1.37e+07    1.37e+07\n",
      "==========================================================================================\n",
      "\n",
      "Possibly complete quasi-separation: A fraction 0.79 of observations can be\n",
      "perfectly predicted. This might indicate that there is complete\n",
      "quasi-separation. In this case some parameters will not be identified.\n"
     ]
    }
   ],
   "source": [
    "# Model including dummy variables\n",
    "medical_df['intercept'] = 1\n",
    "medical_df = pd.get_dummies(medical_df, drop_first = True)\n",
    "ReAdmis_logit_model = sm.Logit(medical_df['ReAdmis'], medical_df[['Children', 'Age', 'Income', 'VitD_levels', \n",
    "        'Doc_visits', 'Full_meals_eaten', 'vitD_supp', 'Initial_days', 'TotalCharge', 'Additional_charges', \n",
    "        'Survey_TimelyAdmin', 'Survey_TimelyTreatment', 'Survey_TimelyVisits', 'Survey_Reliability', 'Survey_Options',\n",
    "        'Survey_HoursTreatment','Survey_CourteousStaff', 'Survey_ActiveListening','Female', 'Male',\n",
    "        'Elective Admission', 'Emergency Admission', 'Observation Admission', 'Blood Work', 'CT Scan', 'Intravenous', \n",
    "        'MRI','High', 'Low', 'Medium', 'intercept']]).fit()\n",
    "print(ReAdmis_logit_model.summary())"
   ]
  },
  {
   "cell_type": "code",
   "execution_count": 68,
   "id": "dfbfa58f",
   "metadata": {},
   "outputs": [
    {
     "name": "stdout",
     "output_type": "stream",
     "text": [
      "Optimization terminated successfully.\n",
      "         Current function value: 0.044611\n",
      "         Iterations 13\n",
      "                           Logit Regression Results                           \n",
      "==============================================================================\n",
      "Dep. Variable:                ReAdmis   No. Observations:                10000\n",
      "Model:                          Logit   Df Residuals:                     9993\n",
      "Method:                           MLE   Df Model:                            6\n",
      "Date:                Sun, 20 Feb 2022   Pseudo R-squ.:                  0.9321\n",
      "Time:                        21:48:56   Log-Likelihood:                -446.11\n",
      "converged:                       True   LL-Null:                       -6572.9\n",
      "Covariance Type:            nonrobust   LLR p-value:                     0.000\n",
      "==========================================================================================\n",
      "                             coef    std err          z      P>|z|      [0.025      0.975]\n",
      "------------------------------------------------------------------------------------------\n",
      "Age                       -0.0124      0.006     -2.054      0.040      -0.024      -0.001\n",
      "Initial_days               0.9177      0.049     18.755      0.000       0.822       1.014\n",
      "TotalCharge                0.0019      0.000      7.132      0.000       0.001       0.002\n",
      "Additional_charges       5.65e-05   1.97e-05      2.870      0.004    1.79e-05    9.51e-05\n",
      "Survey_TimelyTreatment     0.1986      0.085      2.339      0.019       0.032       0.365\n",
      "Survey_ActiveListening    -0.1667      0.085     -1.958      0.050      -0.334       0.000\n",
      "intercept                -63.3240      3.105    -20.392      0.000     -69.410     -57.238\n",
      "==========================================================================================\n",
      "\n",
      "Possibly complete quasi-separation: A fraction 0.75 of observations can be\n",
      "perfectly predicted. This might indicate that there is complete\n",
      "quasi-separation. In this case some parameters will not be identified.\n"
     ]
    }
   ],
   "source": [
    "# Reduced multiple regression model\n",
    "medical_df['intercept'] = 1\n",
    "ReAdmis_logit_model_reduced = sm.Logit(medical_df['ReAdmis'], medical_df[['Age','Initial_days', 'TotalCharge', \n",
    "                                                            'Additional_charges', 'Survey_TimelyTreatment', \n",
    "                                                            'Survey_ActiveListening', 'intercept']]).fit()\n",
    "print(ReAdmis_logit_model_reduced.summary())"
   ]
  },
  {
   "cell_type": "code",
   "execution_count": 69,
   "id": "0dc14b5a",
   "metadata": {},
   "outputs": [],
   "source": [
    "# Confusion Matrix\n",
    "# Import the prepared dataset\n",
    "dataset = pd.read_csv('medical_prepared_log.csv')\n",
    "x = dataset.iloc[:,1:-1].values\n",
    "y = dataset.iloc[:, -1].values"
   ]
  },
  {
   "cell_type": "code",
   "execution_count": 70,
   "id": "cee47645",
   "metadata": {},
   "outputs": [],
   "source": [
    "# Split the dataset into the training and test sets\n",
    "from sklearn.model_selection import train_test_split\n",
    "x_train, x_test, y_train, y_test = train_test_split(x, y, test_size = 0.2, random_state = 0)"
   ]
  },
  {
   "cell_type": "code",
   "execution_count": 71,
   "id": "4c478ccc",
   "metadata": {},
   "outputs": [
    {
     "data": {
      "text/plain": [
       "LogisticRegression(random_state=0)"
      ]
     },
     "execution_count": 71,
     "metadata": {},
     "output_type": "execute_result"
    }
   ],
   "source": [
    "# Training the Logistic Regression model on the training set\n",
    "from sklearn.linear_model import LogisticRegression\n",
    "classifier = LogisticRegression(random_state = 0)\n",
    "classifier.fit(x_train, y_train)"
   ]
  },
  {
   "cell_type": "code",
   "execution_count": 72,
   "id": "dc71af82",
   "metadata": {},
   "outputs": [],
   "source": [
    "# Predict the test set results\n",
    "y_predict = classifier.predict(x_test)"
   ]
  },
  {
   "cell_type": "code",
   "execution_count": 73,
   "id": "99c0e3f6",
   "metadata": {},
   "outputs": [
    {
     "name": "stdout",
     "output_type": "stream",
     "text": [
      "[[1179   83]\n",
      " [  42  696]]\n"
     ]
    }
   ],
   "source": [
    "# Make the confusion matrix\n",
    "from sklearn.metrics import confusion_matrix\n",
    "cm = confusion_matrix(y_test, y_predict)\n",
    "print(cm)"
   ]
  },
  {
   "cell_type": "code",
   "execution_count": 74,
   "id": "928b77f3",
   "metadata": {},
   "outputs": [
    {
     "name": "stdout",
     "output_type": "stream",
     "text": [
      "Accuracy: 94.89 %\n",
      "Standard Deviation: 0.87 %\n"
     ]
    }
   ],
   "source": [
    "# Compute the accuracy with k-Fold cross validation\n",
    "from sklearn.model_selection import cross_val_score\n",
    "accuracies = cross_val_score(estimator = classifier, X = x_train, y = y_train, cv = 10)\n",
    "print(\"Accuracy: {:.2f} %\".format(accuracies.mean()*100))\n",
    "print(\"Standard Deviation: {:.2f} %\".format(accuracies.std()*100))"
   ]
  },
  {
   "cell_type": "code",
   "execution_count": 75,
   "id": "bba6a466",
   "metadata": {},
   "outputs": [
    {
     "data": {
      "text/plain": [
       "<AxesSubplot:>"
      ]
     },
     "execution_count": 75,
     "metadata": {},
     "output_type": "execute_result"
    },
    {
     "data": {
      "image/png": "[encoded data removed]",
      "text/plain": [
       "<Figure size 432x288 with 2 Axes>"
      ]
     },
     "metadata": {
      "needs_background": "light"
     },
     "output_type": "display_data"
    }
   ],
   "source": [
    "y_predict_test = classifier.predict(x_test)\n",
    "cm2 = confusion_matrix(y_test, y_predict_test)\n",
    "sns.heatmap(cm2, annot=True)"
   ]
  },
  {
   "cell_type": "code",
   "execution_count": 76,
   "id": "e3a2e755",
   "metadata": {},
   "outputs": [
    {
     "name": "stdout",
     "output_type": "stream",
     "text": [
      "              precision    recall  f1-score   support\n",
      "\n",
      "           0       0.97      0.93      0.95      1262\n",
      "           1       0.89      0.94      0.92       738\n",
      "\n",
      "    accuracy                           0.94      2000\n",
      "   macro avg       0.93      0.94      0.93      2000\n",
      "weighted avg       0.94      0.94      0.94      2000\n",
      "\n"
     ]
    }
   ],
   "source": [
    "# Classification Report\n",
    "from sklearn.metrics import classification_report\n",
    "print(classification_report(y_test, y_predict_test))"
   ]
  },
  {
   "cell_type": "code",
   "execution_count": null,
   "id": "22e787c1",
   "metadata": {},
   "outputs": [],
   "source": []
  }
 ],
 "metadata": {
  "kernelspec": {
   "display_name": "Python 3",
   "language": "python",
   "name": "python3"
  },
  "language_info": {
   "codemirror_mode": {
    "name": "ipython",
    "version": 3
   },
   "file_extension": ".py",
   "mimetype": "text/x-python",
   "name": "python",
   "nbconvert_exporter": "python",
   "pygments_lexer": "ipython3",
   "version": "3.8.8"
  }
 },
 "nbformat": 4,
 "nbformat_minor": 5
}
